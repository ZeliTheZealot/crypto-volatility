{
 "cells": [
  {
   "cell_type": "code",
   "execution_count": 1,
   "id": "34223692",
   "metadata": {},
   "outputs": [
    {
     "name": "stdout",
     "output_type": "stream",
     "text": [
      "Collecting tardis-dev\n",
      "  Downloading tardis_dev-2.0.0a10-py3-none-any.whl (11 kB)\n",
      "Collecting aiohttp<4.0.0,>=3.6.2\n",
      "  Downloading aiohttp-3.8.1-cp37-cp37m-win_amd64.whl (551 kB)\n",
      "Collecting aiofiles<0.5.0,>=0.4.0\n",
      "  Downloading aiofiles-0.4.0-py3-none-any.whl (9.2 kB)\n",
      "Collecting sortedcontainers<3.0,>=2.1\n",
      "  Downloading sortedcontainers-2.4.0-py2.py3-none-any.whl (29 kB)\n",
      "Requirement already satisfied: python-dateutil<3.0.0,>=2.8.2 in c:\\users\\wang-\\appdata\\local\\programs\\python\\python37\\lib\\site-packages (from tardis-dev) (2.8.2)\n",
      "Requirement already satisfied: typing-extensions>=3.7.4; python_version < \"3.8\" in c:\\users\\wang-\\appdata\\local\\programs\\python\\python37\\lib\\site-packages (from aiohttp<4.0.0,>=3.6.2->tardis-dev) (4.1.1)\n",
      "Collecting async-timeout<5.0,>=4.0.0a3\n",
      "  Downloading async_timeout-4.0.2-py3-none-any.whl (5.8 kB)\n",
      "Collecting yarl<2.0,>=1.0\n",
      "  Downloading yarl-1.7.2-cp37-cp37m-win_amd64.whl (121 kB)\n",
      "Collecting multidict<7.0,>=4.5\n",
      "  Downloading multidict-6.0.2-cp37-cp37m-win_amd64.whl (27 kB)\n",
      "Collecting charset-normalizer<3.0,>=2.0\n",
      "  Downloading charset_normalizer-2.0.12-py3-none-any.whl (39 kB)\n",
      "Requirement already satisfied: attrs>=17.3.0 in c:\\users\\wang-\\appdata\\local\\programs\\python\\python37\\lib\\site-packages (from aiohttp<4.0.0,>=3.6.2->tardis-dev) (21.4.0)\n",
      "Collecting asynctest==0.13.0; python_version < \"3.8\"\n",
      "  Downloading asynctest-0.13.0-py3-none-any.whl (26 kB)\n",
      "Collecting aiosignal>=1.1.2\n",
      "  Downloading aiosignal-1.2.0-py3-none-any.whl (8.2 kB)\n",
      "Collecting frozenlist>=1.1.1\n",
      "  Downloading frozenlist-1.3.0-cp37-cp37m-win_amd64.whl (33 kB)\n",
      "Requirement already satisfied: six>=1.5 in c:\\users\\wang-\\appdata\\local\\programs\\python\\python37\\lib\\site-packages (from python-dateutil<3.0.0,>=2.8.2->tardis-dev) (1.16.0)\n",
      "Collecting idna>=2.0\n",
      "  Downloading idna-3.3-py3-none-any.whl (61 kB)\n",
      "Installing collected packages: async-timeout, idna, multidict, yarl, charset-normalizer, asynctest, frozenlist, aiosignal, aiohttp, aiofiles, sortedcontainers, tardis-dev\n",
      "Successfully installed aiofiles-0.4.0 aiohttp-3.8.1 aiosignal-1.2.0 async-timeout-4.0.2 asynctest-0.13.0 charset-normalizer-2.0.12 frozenlist-1.3.0 idna-3.3 multidict-6.0.2 sortedcontainers-2.4.0 tardis-dev-2.0.0a10 yarl-1.7.2\n"
     ]
    },
    {
     "name": "stderr",
     "output_type": "stream",
     "text": [
      "WARNING: You are using pip version 20.1.1; however, version 22.0.4 is available.\n",
      "You should consider upgrading via the 'c:\\users\\wang-\\appdata\\local\\programs\\python\\python37\\python.exe -m pip install --upgrade pip' command.\n"
     ]
    }
   ],
   "source": [
    "!pip install tardis-dev"
   ]
  },
  {
   "cell_type": "code",
   "execution_count": 7,
   "id": "8cae0e6d",
   "metadata": {},
   "outputs": [
    {
     "name": "stdout",
     "output_type": "stream",
     "text": [
      "Requirement already satisfied: nest_asyncio in c:\\users\\wang-\\appdata\\local\\programs\\python\\python37\\lib\\site-packages (1.5.4)\n"
     ]
    },
    {
     "name": "stderr",
     "output_type": "stream",
     "text": [
      "WARNING: You are using pip version 20.1.1; however, version 22.0.4 is available.\n",
      "You should consider upgrading via the 'c:\\users\\wang-\\appdata\\local\\programs\\python\\python37\\python.exe -m pip install --upgrade pip' command.\n"
     ]
    }
   ],
   "source": [
    "!pip install nest_asyncio"
   ]
  },
  {
   "cell_type": "code",
   "execution_count": 8,
   "id": "150e5196",
   "metadata": {},
   "outputs": [],
   "source": [
    "import nest_asyncio\n",
    "nest_asyncio.apply()"
   ]
  },
  {
   "cell_type": "code",
   "execution_count": 5,
   "id": "7b8a6b44",
   "metadata": {},
   "outputs": [],
   "source": [
    "from tardis_dev import datasets"
   ]
  },
  {
   "cell_type": "code",
   "execution_count": 9,
   "id": "56f03bf9",
   "metadata": {},
   "outputs": [
    {
     "name": "stderr",
     "output_type": "stream",
     "text": [
      "c:\\users\\wang-\\appdata\\local\\programs\\python\\python37\\lib\\asyncio\\tasks.py:744: RuntimeWarning: coroutine 'download_async' was never awaited\n",
      "  for arg in coros_or_futures:\n",
      "RuntimeWarning: Enable tracemalloc to get the object allocation traceback\n"
     ]
    }
   ],
   "source": [
    "datasets.download(\n",
    "    exchange=\"deribit\",\n",
    "    data_types=[\n",
    "        \"incremental_book_L2\",\n",
    "        \"trades\",\n",
    "        \"quotes\",\n",
    "        \"derivative_ticker\",\n",
    "        \"book_snapshot_25\",\n",
    "        \"liquidations\"\n",
    "    ],\n",
    "    from_date=\"2019-11-01\",\n",
    "    to_date=\"2019-11-02\",\n",
    "    symbols=[\"BTC-PERPETUAL\", \"ETH-PERPETUAL\"],\n",
    "    api_key=\"TD.BDDr5Mkdv9P7jcBv.HGl8KnCzXgfUQSx.GiAyuItybr9u2tg.5DBEOQ-S7tzj-sN.p9Z42Wlj-bksdHl.rpdN\",\n",
    ")"
   ]
  },
  {
   "cell_type": "code",
   "execution_count": 10,
   "id": "1c488c15",
   "metadata": {},
   "outputs": [],
   "source": [
    "import pandas as pd"
   ]
  },
  {
   "cell_type": "code",
   "execution_count": 17,
   "id": "ff8736e2",
   "metadata": {},
   "outputs": [],
   "source": [
    "folder = 'datasets'"
   ]
  },
  {
   "cell_type": "code",
   "execution_count": 11,
   "id": "6a2b5668",
   "metadata": {},
   "outputs": [],
   "source": [
    "filename = \"deribit_trades_2019-11-01_BTC-PERPETUAL.csv\""
   ]
  },
  {
   "cell_type": "code",
   "execution_count": 14,
   "id": "f1de4d88",
   "metadata": {},
   "outputs": [],
   "source": [
    "import os"
   ]
  },
  {
   "cell_type": "code",
   "execution_count": 18,
   "id": "98a9d9aa",
   "metadata": {},
   "outputs": [],
   "source": [
    "file_path = os.path.join(os.getcwd(), folder, filename)"
   ]
  },
  {
   "cell_type": "code",
   "execution_count": 21,
   "id": "35e22ef4",
   "metadata": {},
   "outputs": [],
   "source": [
    "df = pd.read_csv(file_path)"
   ]
  },
  {
   "cell_type": "code",
   "execution_count": 22,
   "id": "d5ba889b",
   "metadata": {},
   "outputs": [
    {
     "data": {
      "text/html": [
       "<div>\n",
       "<style scoped>\n",
       "    .dataframe tbody tr th:only-of-type {\n",
       "        vertical-align: middle;\n",
       "    }\n",
       "\n",
       "    .dataframe tbody tr th {\n",
       "        vertical-align: top;\n",
       "    }\n",
       "\n",
       "    .dataframe thead th {\n",
       "        text-align: right;\n",
       "    }\n",
       "</style>\n",
       "<table border=\"1\" class=\"dataframe\">\n",
       "  <thead>\n",
       "    <tr style=\"text-align: right;\">\n",
       "      <th></th>\n",
       "      <th>exchange</th>\n",
       "      <th>symbol</th>\n",
       "      <th>timestamp</th>\n",
       "      <th>local_timestamp</th>\n",
       "      <th>id</th>\n",
       "      <th>side</th>\n",
       "      <th>price</th>\n",
       "      <th>amount</th>\n",
       "    </tr>\n",
       "  </thead>\n",
       "  <tbody>\n",
       "    <tr>\n",
       "      <th>0</th>\n",
       "      <td>deribit</td>\n",
       "      <td>BTC-PERPETUAL</td>\n",
       "      <td>1572566402186000</td>\n",
       "      <td>1572566402202479</td>\n",
       "      <td>47882149</td>\n",
       "      <td>buy</td>\n",
       "      <td>9158.0</td>\n",
       "      <td>30</td>\n",
       "    </tr>\n",
       "    <tr>\n",
       "      <th>1</th>\n",
       "      <td>deribit</td>\n",
       "      <td>BTC-PERPETUAL</td>\n",
       "      <td>1572566402186000</td>\n",
       "      <td>1572566402202479</td>\n",
       "      <td>47882150</td>\n",
       "      <td>buy</td>\n",
       "      <td>9158.0</td>\n",
       "      <td>2990</td>\n",
       "    </tr>\n",
       "    <tr>\n",
       "      <th>2</th>\n",
       "      <td>deribit</td>\n",
       "      <td>BTC-PERPETUAL</td>\n",
       "      <td>1572566402186000</td>\n",
       "      <td>1572566402202479</td>\n",
       "      <td>47882151</td>\n",
       "      <td>buy</td>\n",
       "      <td>9158.0</td>\n",
       "      <td>3000</td>\n",
       "    </tr>\n",
       "    <tr>\n",
       "      <th>3</th>\n",
       "      <td>deribit</td>\n",
       "      <td>BTC-PERPETUAL</td>\n",
       "      <td>1572566402186000</td>\n",
       "      <td>1572566402202479</td>\n",
       "      <td>47882152</td>\n",
       "      <td>buy</td>\n",
       "      <td>9158.0</td>\n",
       "      <td>30</td>\n",
       "    </tr>\n",
       "    <tr>\n",
       "      <th>4</th>\n",
       "      <td>deribit</td>\n",
       "      <td>BTC-PERPETUAL</td>\n",
       "      <td>1572566402186000</td>\n",
       "      <td>1572566402202479</td>\n",
       "      <td>47882153</td>\n",
       "      <td>buy</td>\n",
       "      <td>9158.0</td>\n",
       "      <td>1120</td>\n",
       "    </tr>\n",
       "  </tbody>\n",
       "</table>\n",
       "</div>"
      ],
      "text/plain": [
       "  exchange         symbol         timestamp   local_timestamp        id side  \\\n",
       "0  deribit  BTC-PERPETUAL  1572566402186000  1572566402202479  47882149  buy   \n",
       "1  deribit  BTC-PERPETUAL  1572566402186000  1572566402202479  47882150  buy   \n",
       "2  deribit  BTC-PERPETUAL  1572566402186000  1572566402202479  47882151  buy   \n",
       "3  deribit  BTC-PERPETUAL  1572566402186000  1572566402202479  47882152  buy   \n",
       "4  deribit  BTC-PERPETUAL  1572566402186000  1572566402202479  47882153  buy   \n",
       "\n",
       "    price  amount  \n",
       "0  9158.0      30  \n",
       "1  9158.0    2990  \n",
       "2  9158.0    3000  \n",
       "3  9158.0      30  \n",
       "4  9158.0    1120  "
      ]
     },
     "execution_count": 22,
     "metadata": {},
     "output_type": "execute_result"
    }
   ],
   "source": [
    "df.head()"
   ]
  },
  {
   "cell_type": "code",
   "execution_count": 23,
   "id": "70999502",
   "metadata": {},
   "outputs": [],
   "source": [
    "x = 1572566402186000"
   ]
  },
  {
   "cell_type": "code",
   "execution_count": 24,
   "id": "4ab28a4b",
   "metadata": {},
   "outputs": [
    {
     "data": {
      "text/plain": [
       "'2019-11-01 12:00:02'"
      ]
     },
     "execution_count": 24,
     "metadata": {},
     "output_type": "execute_result"
    }
   ],
   "source": [
    "from datetime import datetime\n",
    "datetime.fromtimestamp(x/1000000).strftime(\"%Y-%m-%d %I:%M:%S\")"
   ]
  },
  {
   "cell_type": "code",
   "execution_count": 25,
   "id": "5f7c847d",
   "metadata": {},
   "outputs": [
    {
     "data": {
      "text/plain": [
       "array(['BTC-PERPETUAL'], dtype=object)"
      ]
     },
     "execution_count": 25,
     "metadata": {},
     "output_type": "execute_result"
    }
   ],
   "source": [
    "df.symbol.unique()"
   ]
  },
  {
   "cell_type": "code",
   "execution_count": null,
   "id": "9e5114fb",
   "metadata": {},
   "outputs": [],
   "source": []
  }
 ],
 "metadata": {
  "kernelspec": {
   "display_name": "Python 3 (ipykernel)",
   "language": "python",
   "name": "python3"
  },
  "language_info": {
   "codemirror_mode": {
    "name": "ipython",
    "version": 3
   },
   "file_extension": ".py",
   "mimetype": "text/x-python",
   "name": "python",
   "nbconvert_exporter": "python",
   "pygments_lexer": "ipython3",
   "version": "3.7.9"
  }
 },
 "nbformat": 4,
 "nbformat_minor": 5
}

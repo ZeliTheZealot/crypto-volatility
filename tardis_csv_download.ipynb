{
 "cells": [
  {
   "cell_type": "code",
   "execution_count": 12,
   "id": "af0963e5",
   "metadata": {},
   "outputs": [
    {
     "name": "stderr",
     "output_type": "stream",
     "text": [
      "UsageError: unrecognized arguments: suppresses output\n"
     ]
    }
   ],
   "source": [
    "%%capture # suppresses output\n",
    "!pip install tardis-dev;"
   ]
  },
  {
   "cell_type": "code",
   "execution_count": 13,
   "id": "4f81ddcd",
   "metadata": {},
   "outputs": [],
   "source": [
    "from tardis_dev import datasets, get_exchange_details\n",
    "import logging\n",
    "import os\n",
    "import pandas as pd"
   ]
  },
  {
   "cell_type": "code",
   "execution_count": 14,
   "id": "7f7a6bdc",
   "metadata": {},
   "outputs": [],
   "source": [
    "# prevents weird issue\n",
    "import nest_asyncio\n",
    "nest_asyncio.apply()"
   ]
  },
  {
   "cell_type": "code",
   "execution_count": 30,
   "id": "6594aa23",
   "metadata": {},
   "outputs": [],
   "source": [
    "my_api_key = \"TD.BDDr5Mkdv9P7jcBv.HGl8KnCzXgfUQSx.GiAyuItybr9u2tg.5DBEOQ-S7tzj-sN.p9Z42Wlj-bksdHl.rpdN\""
   ]
  },
  {
   "cell_type": "code",
   "execution_count": 15,
   "id": "f84fb65d",
   "metadata": {},
   "outputs": [],
   "source": [
    "# comment out to disable debug logs\n",
    "logging.basicConfig(level=logging.DEBUG)\n",
    "\n",
    "# default get_filename (flat structure)\n",
    "def default_file_name(exchange, data_type, date, symbol, format):\n",
    "    return f\"{exchange}_{data_type}_{date.strftime('%Y-%m-%d')}_{symbol}.{format}.gz\"\n",
    "\n",
    "# (arbitrary) customisable get_filename (nested structure)\n",
    "def file_name_nested(exchange, data_type, date, symbol, format):\n",
    "    return f\"{exchange}/{data_type}/{date.strftime('%Y-%m-%d')}_{symbol}.{format}.gz\""
   ]
  },
  {
   "cell_type": "code",
   "execution_count": 16,
   "id": "d35433b0",
   "metadata": {},
   "outputs": [],
   "source": [
    "# see https://api.tardis.dev/v1/exchanges/ for list of all exchanges\n",
    "\n",
    "# returns data available at https://api.tardis.dev/v1/exchanges/deribit\n",
    "deribit_details = get_exchange_details(\"deribit\")\n",
    "# print(deribit_details)"
   ]
  },
  {
   "cell_type": "code",
   "execution_count": 27,
   "id": "7be6aa20",
   "metadata": {},
   "outputs": [
    {
     "data": {
      "text/plain": [
       "['trades', 'derivative_ticker', 'liquidations']"
      ]
     },
     "execution_count": 27,
     "metadata": {},
     "output_type": "execute_result"
    }
   ],
   "source": [
    "# accepted data_types values: 'datasets.symbols[].dataTypes' field in https://api.tardis.dev/v1/exchanges/deribit,\n",
    "# or get those values from 'deribit_details[\"datasets\"][\"symbols][][\"dataTypes\"] dict above\n",
    "deribit_details[\"datasets\"][\"symbols\"][0][\"dataTypes\"] # we would use not zero, but the actual index"
   ]
  },
  {
   "cell_type": "code",
   "execution_count": 28,
   "id": "f934d6af",
   "metadata": {},
   "outputs": [
    {
     "data": {
      "text/plain": [
       "'PERPETUALS'"
      ]
     },
     "execution_count": 28,
     "metadata": {},
     "output_type": "execute_result"
    }
   ],
   "source": [
    "# accepted symbols values: 'datasets.symbols[].id' field in https://api.tardis.dev/v1/exchanges/deribit\n",
    "deribit_details[\"datasets\"][\"symbols\"][0][\"id\"] # we would use not zero, but the actual index"
   ]
  },
  {
   "cell_type": "code",
   "execution_count": 31,
   "id": "ecd8abf4",
   "metadata": {},
   "outputs": [
    {
     "name": "stderr",
     "output_type": "stream",
     "text": [
      "DEBUG:tardis_dev.datasets.download:download started for deribit incremental_book_L2 BTC-PERPETUAL from 2019-11-01 to 2019-11-02\n",
      "DEBUG:tardis_dev.datasets.download:download finished for deribit incremental_book_L2 BTC-PERPETUAL from 2019-11-01 to 2019-11-02, total time: 3.8202219009399414 seconds\n",
      "DEBUG:tardis_dev.datasets.download:download started for deribit trades BTC-PERPETUAL from 2019-11-01 to 2019-11-02\n",
      "DEBUG:tardis_dev.datasets.download:download finished for deribit trades BTC-PERPETUAL from 2019-11-01 to 2019-11-02, total time: 0.3618147373199463 seconds\n",
      "DEBUG:tardis_dev.datasets.download:download started for deribit quotes BTC-PERPETUAL from 2019-11-01 to 2019-11-02\n",
      "DEBUG:tardis_dev.datasets.download:download finished for deribit quotes BTC-PERPETUAL from 2019-11-01 to 2019-11-02, total time: 4.575609922409058 seconds\n",
      "DEBUG:tardis_dev.datasets.download:download started for deribit derivative_ticker BTC-PERPETUAL from 2019-11-01 to 2019-11-02\n",
      "DEBUG:tardis_dev.datasets.download:download finished for deribit derivative_ticker BTC-PERPETUAL from 2019-11-01 to 2019-11-02, total time: 0.18891215324401855 seconds\n",
      "DEBUG:tardis_dev.datasets.download:download started for deribit book_snapshot_25 BTC-PERPETUAL from 2019-11-01 to 2019-11-02\n",
      "DEBUG:tardis_dev.datasets.download:download finished for deribit book_snapshot_25 BTC-PERPETUAL from 2019-11-01 to 2019-11-02, total time: 1.9553213119506836 seconds\n",
      "DEBUG:tardis_dev.datasets.download:download started for deribit book_snapshot_5 BTC-PERPETUAL from 2019-11-01 to 2019-11-02\n",
      "DEBUG:tardis_dev.datasets.download:download finished for deribit book_snapshot_5 BTC-PERPETUAL from 2019-11-01 to 2019-11-02, total time: 7.13772177696228 seconds\n",
      "DEBUG:tardis_dev.datasets.download:download started for deribit liquidations BTC-PERPETUAL from 2019-11-01 to 2019-11-02\n",
      "DEBUG:tardis_dev.datasets.download:download finished for deribit liquidations BTC-PERPETUAL from 2019-11-01 to 2019-11-02, total time: 0.11953282356262207 seconds\n",
      "DEBUG:tardis_dev.datasets.download:download started for deribit incremental_book_L2 ETH-PERPETUAL from 2019-11-01 to 2019-11-02\n",
      "DEBUG:tardis_dev.datasets.download:download finished for deribit incremental_book_L2 ETH-PERPETUAL from 2019-11-01 to 2019-11-02, total time: 7.531636953353882 seconds\n",
      "DEBUG:tardis_dev.datasets.download:download started for deribit trades ETH-PERPETUAL from 2019-11-01 to 2019-11-02\n",
      "DEBUG:tardis_dev.datasets.download:download finished for deribit trades ETH-PERPETUAL from 2019-11-01 to 2019-11-02, total time: 0.16373825073242188 seconds\n",
      "DEBUG:tardis_dev.datasets.download:download started for deribit quotes ETH-PERPETUAL from 2019-11-01 to 2019-11-02\n",
      "DEBUG:tardis_dev.datasets.download:download finished for deribit quotes ETH-PERPETUAL from 2019-11-01 to 2019-11-02, total time: 0.2805767059326172 seconds\n",
      "DEBUG:tardis_dev.datasets.download:download started for deribit derivative_ticker ETH-PERPETUAL from 2019-11-01 to 2019-11-02\n",
      "DEBUG:tardis_dev.datasets.download:download finished for deribit derivative_ticker ETH-PERPETUAL from 2019-11-01 to 2019-11-02, total time: 0.36479878425598145 seconds\n",
      "DEBUG:tardis_dev.datasets.download:download started for deribit book_snapshot_25 ETH-PERPETUAL from 2019-11-01 to 2019-11-02\n",
      "DEBUG:tardis_dev.datasets.download:download finished for deribit book_snapshot_25 ETH-PERPETUAL from 2019-11-01 to 2019-11-02, total time: 1.6105046272277832 seconds\n",
      "DEBUG:tardis_dev.datasets.download:download started for deribit book_snapshot_5 ETH-PERPETUAL from 2019-11-01 to 2019-11-02\n",
      "DEBUG:tardis_dev.datasets.download:download finished for deribit book_snapshot_5 ETH-PERPETUAL from 2019-11-01 to 2019-11-02, total time: 0.9484341144561768 seconds\n",
      "DEBUG:tardis_dev.datasets.download:download started for deribit liquidations ETH-PERPETUAL from 2019-11-01 to 2019-11-02\n",
      "DEBUG:tardis_dev.datasets.download:download finished for deribit liquidations ETH-PERPETUAL from 2019-11-01 to 2019-11-02, total time: 0.1729724407196045 seconds\n"
     ]
    }
   ],
   "source": [
    "datasets.download(\n",
    "    exchange=\"deribit\", # one of https://api.tardis.dev/v1/exchanges with supportsDatasets:true - use 'id' value\n",
    "    data_types=[\"incremental_book_L2\", \"trades\", \"quotes\", \"derivative_ticker\", \"book_snapshot_25\", \"book_snapshot_5\", \"liquidations\"],\n",
    "    from_date=\"2019-11-01\", # inclusive\n",
    "    to_date=\"2019-11-02\", # non inclusive\n",
    "    symbols=[\"BTC-PERPETUAL\", \"ETH-PERPETUAL\",],\n",
    "    api_key=\"YOUR API KEY\",\n",
    "    download_dir=\"./datasets_test\", # default = './datasets'\n",
    "    get_filename=file_name_nested,\n",
    ")"
   ]
  },
  {
   "cell_type": "code",
   "execution_count": null,
   "id": "13d1fa4a",
   "metadata": {},
   "outputs": [],
   "source": []
  }
 ],
 "metadata": {
  "kernelspec": {
   "display_name": "Python 3 (ipykernel)",
   "language": "python",
   "name": "python3"
  },
  "language_info": {
   "codemirror_mode": {
    "name": "ipython",
    "version": 3
   },
   "file_extension": ".py",
   "mimetype": "text/x-python",
   "name": "python",
   "nbconvert_exporter": "python",
   "pygments_lexer": "ipython3",
   "version": "3.7.9"
  }
 },
 "nbformat": 4,
 "nbformat_minor": 5
}

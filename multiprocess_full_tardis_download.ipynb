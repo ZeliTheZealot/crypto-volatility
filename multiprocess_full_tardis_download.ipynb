{
 "cells": [
  {
   "cell_type": "code",
   "execution_count": 1,
   "id": "c2833a90",
   "metadata": {},
   "outputs": [],
   "source": [
    "# from tardis_dev import datasets\n",
    "import multiprocess\n",
    "# import tardis_dev\n",
    "import logging\n",
    "import json\n",
    "import nest_asyncio\n",
    "nest_asyncio.apply()\n",
    "\n",
    "\n",
    "\n",
    "logging.basicConfig(level=logging.DEBUG)\n",
    "\n",
    "# (arbitrary) customisable get_filename (nested structure)\n",
    "\n",
    "\n",
    "\n",
    "file_name = \"binance_BTC_from_2019_05_01_to_2022_04_30.json\" \n",
    "# yes i didn't change the file name by 1\n",
    "\n",
    "with open(file_name, \"r\") as f:\n",
    "    symbols_list = json.load(f)"
   ]
  },
  {
   "cell_type": "code",
   "execution_count": 2,
   "id": "a4620a0f",
   "metadata": {},
   "outputs": [],
   "source": [
    "def download_data(symbol):\n",
    "    from tardis_dev import datasets\n",
    "    dataset_prefix = \"full_datasets_by_asset_\"\n",
    "    exchange = \"binance\"\n",
    "    my_api_key = \"TD.34Q-uNaLfiYDgGrL.ASWs359NTrG3xtC.hJ6BeUBTavJthip.bv88e75OfyB8uWY.Fj9Bir3R4yU8vBo.V8aa\"\n",
    "    from_date_string = \"2019-05-01\"\n",
    "    to_date_string = \"2022-05-01\"\n",
    "    def file_name_nested(exchange, data_type, date, symbol, format):\n",
    "        return f\"{exchange}/{data_type}/{date.strftime('%Y-%m-%d')}_{symbol}.{format}.gz\"\n",
    "    datasets.download(\n",
    "        exchange=exchange, \n",
    "        data_types=[\"trades\"],\n",
    "        from_date=from_date_string, # inclusive\n",
    "        to_date=to_date_string, # non inclusive\n",
    "        symbols=[symbol],\n",
    "        api_key=my_api_key,\n",
    "        download_dir=\"./\" + dataset_prefix + exchange + \"/\" + symbol, \n",
    "        get_filename=file_name_nested,\n",
    "    )"
   ]
  },
  {
   "cell_type": "code",
   "execution_count": 3,
   "id": "91a86fe3",
   "metadata": {},
   "outputs": [],
   "source": [
    "num_workers = multiprocess.cpu_count()\n",
    "with multiprocess.Pool(num_workers) as p:\n",
    "    p.map(download_data, symbols_list)"
   ]
  },
  {
   "cell_type": "code",
   "execution_count": null,
   "id": "fb1d37ba",
   "metadata": {},
   "outputs": [],
   "source": []
  }
 ],
 "metadata": {
  "kernelspec": {
   "display_name": "Python 3 (ipykernel)",
   "language": "python",
   "name": "python3"
  },
  "language_info": {
   "codemirror_mode": {
    "name": "ipython",
    "version": 3
   },
   "file_extension": ".py",
   "mimetype": "text/x-python",
   "name": "python",
   "nbconvert_exporter": "python",
   "pygments_lexer": "ipython3",
   "version": "3.7.9"
  }
 },
 "nbformat": 4,
 "nbformat_minor": 5
}

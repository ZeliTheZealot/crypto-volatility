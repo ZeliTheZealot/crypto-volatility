{
 "cells": [
  {
   "cell_type": "code",
   "execution_count": 3,
   "id": "200293c6",
   "metadata": {},
   "outputs": [],
   "source": [
    "import import_ipynb"
   ]
  },
  {
   "cell_type": "code",
   "execution_count": 3,
   "id": "66e73b19",
   "metadata": {},
   "outputs": [
    {
     "name": "stdout",
     "output_type": "stream",
     "text": [
      "importing Jupyter notebook from import_source_messing.ipynb\n"
     ]
    }
   ],
   "source": [
    "import import_source_messing"
   ]
  },
  {
   "cell_type": "code",
   "execution_count": 4,
   "id": "59e2d015",
   "metadata": {},
   "outputs": [
    {
     "data": {
      "text/plain": [
       "6"
      ]
     },
     "execution_count": 4,
     "metadata": {},
     "output_type": "execute_result"
    }
   ],
   "source": [
    "import_source_messing.six()"
   ]
  },
  {
   "cell_type": "code",
   "execution_count": 5,
   "id": "3261786b",
   "metadata": {},
   "outputs": [
    {
     "data": {
      "text/plain": [
       "7"
      ]
     },
     "execution_count": 5,
     "metadata": {},
     "output_type": "execute_result"
    }
   ],
   "source": [
    "import_source_messing.seven()"
   ]
  },
  {
   "cell_type": "code",
   "execution_count": 2,
   "id": "46461aa6",
   "metadata": {},
   "outputs": [
    {
     "name": "stdout",
     "output_type": "stream",
     "text": [
      "importing Jupyter notebook from import_source_messing.ipynb\n"
     ]
    }
   ],
   "source": [
    "from import_source_messing import seven"
   ]
  },
  {
   "cell_type": "code",
   "execution_count": 3,
   "id": "13689c5a",
   "metadata": {},
   "outputs": [
    {
     "data": {
      "text/plain": [
       "<function import_source_messing.seven(s=None)>"
      ]
     },
     "execution_count": 3,
     "metadata": {},
     "output_type": "execute_result"
    }
   ],
   "source": [
    "seven"
   ]
  },
  {
   "cell_type": "code",
   "execution_count": 1,
   "id": "52011208",
   "metadata": {},
   "outputs": [],
   "source": [
    "%load_ext autoreload"
   ]
  },
  {
   "cell_type": "code",
   "execution_count": 2,
   "id": "7015ad07",
   "metadata": {},
   "outputs": [],
   "source": [
    "%autoreload 2"
   ]
  },
  {
   "cell_type": "code",
   "execution_count": 4,
   "id": "53d9af8e",
   "metadata": {},
   "outputs": [
    {
     "name": "stdout",
     "output_type": "stream",
     "text": [
      "importing Jupyter notebook from import_source_messing.ipynb\n"
     ]
    }
   ],
   "source": [
    "from import_source_messing import seven"
   ]
  },
  {
   "cell_type": "code",
   "execution_count": 14,
   "id": "5bb19902",
   "metadata": {},
   "outputs": [],
   "source": [
    "%autoreload"
   ]
  },
  {
   "cell_type": "code",
   "execution_count": 6,
   "id": "55be5973",
   "metadata": {},
   "outputs": [
    {
     "data": {
      "text/plain": [
       "7"
      ]
     },
     "execution_count": 6,
     "metadata": {},
     "output_type": "execute_result"
    }
   ],
   "source": [
    "seven()"
   ]
  },
  {
   "cell_type": "code",
   "execution_count": null,
   "id": "0cebeba1",
   "metadata": {},
   "outputs": [],
   "source": []
  },
  {
   "cell_type": "code",
   "execution_count": null,
   "id": "89252f20",
   "metadata": {},
   "outputs": [],
   "source": []
  },
  {
   "cell_type": "code",
   "execution_count": null,
   "id": "72af177f",
   "metadata": {},
   "outputs": [],
   "source": [
    "# first way"
   ]
  },
  {
   "cell_type": "code",
   "execution_count": 3,
   "id": "0f8500d4",
   "metadata": {},
   "outputs": [],
   "source": [
    "from ipynb.fs.full.import_source_messing import factorial"
   ]
  },
  {
   "cell_type": "code",
   "execution_count": 4,
   "id": "b2fd6320",
   "metadata": {},
   "outputs": [
    {
     "data": {
      "text/plain": [
       "120"
      ]
     },
     "execution_count": 4,
     "metadata": {},
     "output_type": "execute_result"
    }
   ],
   "source": [
    "factorial(5)"
   ]
  },
  {
   "cell_type": "code",
   "execution_count": 3,
   "id": "1130f867",
   "metadata": {},
   "outputs": [],
   "source": [
    "from ipynb.fs.full.import_source_messing import six"
   ]
  },
  {
   "cell_type": "code",
   "execution_count": 4,
   "id": "bff0bd9d",
   "metadata": {},
   "outputs": [
    {
     "data": {
      "text/plain": [
       "6"
      ]
     },
     "execution_count": 4,
     "metadata": {},
     "output_type": "execute_result"
    }
   ],
   "source": [
    "six()"
   ]
  },
  {
   "cell_type": "code",
   "execution_count": null,
   "id": "240ea328",
   "metadata": {},
   "outputs": [],
   "source": [
    "# second way DON'T USE, as importing this file wouldn't work"
   ]
  },
  {
   "cell_type": "code",
   "execution_count": 1,
   "id": "a7f75972",
   "metadata": {},
   "outputs": [],
   "source": [
    "# import ipynb.fs.full.import_source_messing as m"
   ]
  },
  {
   "cell_type": "code",
   "execution_count": 2,
   "id": "2049d661",
   "metadata": {},
   "outputs": [
    {
     "data": {
      "text/plain": [
       "120"
      ]
     },
     "execution_count": 2,
     "metadata": {},
     "output_type": "execute_result"
    }
   ],
   "source": [
    "# m.factorial(5)"
   ]
  },
  {
   "cell_type": "code",
   "execution_count": 1,
   "id": "bc22a9f5",
   "metadata": {},
   "outputs": [],
   "source": [
    "# third way DOESN'T WORK"
   ]
  },
  {
   "cell_type": "code",
   "execution_count": 2,
   "id": "b69be34c",
   "metadata": {},
   "outputs": [],
   "source": [
    "# import ipynb.fs.full.import_source_messing"
   ]
  },
  {
   "cell_type": "code",
   "execution_count": 3,
   "id": "a82e2226",
   "metadata": {},
   "outputs": [
    {
     "ename": "NameError",
     "evalue": "name 'factorial' is not defined",
     "output_type": "error",
     "traceback": [
      "\u001b[1;31m---------------------------------------------------------------------------\u001b[0m",
      "\u001b[1;31mNameError\u001b[0m                                 Traceback (most recent call last)",
      "\u001b[1;32m~\\AppData\\Local\\Temp\\ipykernel_38008\\2959594348.py\u001b[0m in \u001b[0;36m<module>\u001b[1;34m\u001b[0m\n\u001b[1;32m----> 1\u001b[1;33m \u001b[0mfactorial\u001b[0m\u001b[1;33m(\u001b[0m\u001b[1;36m5\u001b[0m\u001b[1;33m)\u001b[0m\u001b[1;33m\u001b[0m\u001b[1;33m\u001b[0m\u001b[0m\n\u001b[0m",
      "\u001b[1;31mNameError\u001b[0m: name 'factorial' is not defined"
     ]
    }
   ],
   "source": [
    "# factorial(5)"
   ]
  },
  {
   "cell_type": "code",
   "execution_count": null,
   "id": "b3ea6afd",
   "metadata": {},
   "outputs": [],
   "source": []
  }
 ],
 "metadata": {
  "kernelspec": {
   "display_name": "Python 3 (ipykernel)",
   "language": "python",
   "name": "python3"
  },
  "language_info": {
   "codemirror_mode": {
    "name": "ipython",
    "version": 3
   },
   "file_extension": ".py",
   "mimetype": "text/x-python",
   "name": "python",
   "nbconvert_exporter": "python",
   "pygments_lexer": "ipython3",
   "version": "3.7.9"
  }
 },
 "nbformat": 4,
 "nbformat_minor": 5
}

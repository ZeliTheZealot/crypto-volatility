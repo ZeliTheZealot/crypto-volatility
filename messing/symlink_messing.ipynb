{
 "cells": [
  {
   "cell_type": "code",
   "execution_count": 1,
   "id": "c15a9400",
   "metadata": {},
   "outputs": [],
   "source": [
    "import os"
   ]
  },
  {
   "cell_type": "code",
   "execution_count": 2,
   "id": "0c809a66",
   "metadata": {},
   "outputs": [],
   "source": [
    "os.mkdir(\"original\")"
   ]
  },
  {
   "cell_type": "code",
   "execution_count": 3,
   "id": "8d29e805",
   "metadata": {},
   "outputs": [],
   "source": [
    "with open(\"original/test.txt\", \"w\") as f:\n",
    "    f.write(\"asdf\")"
   ]
  },
  {
   "cell_type": "code",
   "execution_count": 6,
   "id": "7cf1ad61",
   "metadata": {},
   "outputs": [
    {
     "data": {
      "text/plain": [
       "['test.txt']"
      ]
     },
     "execution_count": 6,
     "metadata": {},
     "output_type": "execute_result"
    }
   ],
   "source": [
    "os.listdir(\"link\")"
   ]
  },
  {
   "cell_type": "code",
   "execution_count": 8,
   "id": "c466cb9b",
   "metadata": {},
   "outputs": [
    {
     "name": "stdout",
     "output_type": "stream",
     "text": [
      "asdf\n"
     ]
    }
   ],
   "source": [
    "with open(\"link/test.txt\", \"r\") as f:\n",
    "    print(f.read())"
   ]
  },
  {
   "cell_type": "code",
   "execution_count": 9,
   "id": "f13d4a67",
   "metadata": {},
   "outputs": [],
   "source": [
    "with open(\"link/test.txt\", \"w\") as f:\n",
    "    f.write(\"written from link\")"
   ]
  },
  {
   "cell_type": "code",
   "execution_count": 10,
   "id": "09761840",
   "metadata": {},
   "outputs": [],
   "source": [
    "os.remove(\"link/test.txt\")"
   ]
  },
  {
   "cell_type": "code",
   "execution_count": 11,
   "id": "5549b9f0",
   "metadata": {},
   "outputs": [
    {
     "data": {
      "text/plain": [
       "[]"
      ]
     },
     "execution_count": 11,
     "metadata": {},
     "output_type": "execute_result"
    }
   ],
   "source": [
    "os.listdir(\"original\")"
   ]
  },
  {
   "cell_type": "code",
   "execution_count": null,
   "id": "60a5d19f",
   "metadata": {},
   "outputs": [],
   "source": []
  }
 ],
 "metadata": {
  "kernelspec": {
   "display_name": "Python 3 (ipykernel)",
   "language": "python",
   "name": "python3"
  },
  "language_info": {
   "codemirror_mode": {
    "name": "ipython",
    "version": 3
   },
   "file_extension": ".py",
   "mimetype": "text/x-python",
   "name": "python",
   "nbconvert_exporter": "python",
   "pygments_lexer": "ipython3",
   "version": "3.7.9"
  }
 },
 "nbformat": 4,
 "nbformat_minor": 5
}

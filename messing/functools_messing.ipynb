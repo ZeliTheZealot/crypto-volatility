{
 "cells": [
  {
   "cell_type": "code",
   "execution_count": 1,
   "id": "a99bb5be-0e59-495f-b052-471e7adc6824",
   "metadata": {},
   "outputs": [],
   "source": [
    "from functools import partial"
   ]
  },
  {
   "cell_type": "code",
   "execution_count": 10,
   "id": "6649e4cc-3f5a-42e5-9e67-2172ea93b295",
   "metadata": {},
   "outputs": [],
   "source": [
    "def concat(a, b, c):\n",
    "    return a + b + c"
   ]
  },
  {
   "cell_type": "code",
   "execution_count": 11,
   "id": "9a430d1a-4065-435d-bb27-d58edd19d85a",
   "metadata": {},
   "outputs": [],
   "source": [
    "concat_asdf_and = partial(concat, 'asdf')"
   ]
  },
  {
   "cell_type": "code",
   "execution_count": 13,
   "id": "d86f74f3-a053-4b1f-8ac2-63b2567dc4aa",
   "metadata": {},
   "outputs": [
    {
     "data": {
      "text/plain": [
       "'asdfqqqeee'"
      ]
     },
     "execution_count": 13,
     "metadata": {},
     "output_type": "execute_result"
    }
   ],
   "source": [
    "concat_asdf_and('qqq', 'eee')"
   ]
  },
  {
   "cell_type": "code",
   "execution_count": 14,
   "id": "e52a72d4-32bc-4ced-b0e5-b48a6f6fbda9",
   "metadata": {},
   "outputs": [],
   "source": [
    "concat_asdf_reverse = partial(concat, b='asdf')"
   ]
  },
  {
   "cell_type": "code",
   "execution_count": 16,
   "id": "0cd200ed-eb65-44a8-b521-cf98dfa8c573",
   "metadata": {},
   "outputs": [
    {
     "data": {
      "text/plain": [
       "'aaaasdfddd'"
      ]
     },
     "execution_count": 16,
     "metadata": {},
     "output_type": "execute_result"
    }
   ],
   "source": [
    "concat_asdf_reverse(a='aaa', c='ddd')"
   ]
  },
  {
   "cell_type": "code",
   "execution_count": null,
   "id": "0ac09ce7-ae22-4537-a8db-74867c88c2b7",
   "metadata": {},
   "outputs": [],
   "source": []
  },
  {
   "cell_type": "code",
   "execution_count": 7,
   "id": "82785606-7069-47a9-9277-21315cf6f752",
   "metadata": {},
   "outputs": [],
   "source": [
    "def multichoose(n,k):\n",
    "    if k < 0 or n < 0: return \"Error\"\n",
    "    if not k: return [[0]*n]\n",
    "    if not n: return []\n",
    "    if n == 1: return [[k]]\n",
    "    return [[0]+val for val in multichoose(n-1,k)] + \\\n",
    "        [[val[0]+1]+val[1:] for val in multichoose(n,k-1)]"
   ]
  },
  {
   "cell_type": "code",
   "execution_count": 8,
   "id": "b31f9dfc-7727-4c87-880f-170388362ff6",
   "metadata": {},
   "outputs": [
    {
     "data": {
      "text/plain": [
       "[[0, 0, 2], [0, 1, 1], [0, 2, 0], [1, 0, 1], [1, 1, 0], [2, 0, 0]]"
      ]
     },
     "execution_count": 8,
     "metadata": {},
     "output_type": "execute_result"
    }
   ],
   "source": [
    "multichoose(3, 2)"
   ]
  },
  {
   "cell_type": "code",
   "execution_count": 9,
   "id": "252c3b77-bbce-45f7-9caf-7a258e061062",
   "metadata": {},
   "outputs": [
    {
     "data": {
      "text/plain": [
       "[[3]]"
      ]
     },
     "execution_count": 9,
     "metadata": {},
     "output_type": "execute_result"
    }
   ],
   "source": [
    "multichoose(4, 3)"
   ]
  },
  {
   "cell_type": "code",
   "execution_count": null,
   "id": "81b56d1f-bc80-4eda-8b5b-ae19be2ec8ad",
   "metadata": {},
   "outputs": [],
   "source": [
    "# n= num variables, k = degree"
   ]
  }
 ],
 "metadata": {
  "kernelspec": {
   "display_name": "Python 3 (ipykernel)",
   "language": "python",
   "name": "python3"
  },
  "language_info": {
   "codemirror_mode": {
    "name": "ipython",
    "version": 3
   },
   "file_extension": ".py",
   "mimetype": "text/x-python",
   "name": "python",
   "nbconvert_exporter": "python",
   "pygments_lexer": "ipython3",
   "version": "3.7.9"
  }
 },
 "nbformat": 4,
 "nbformat_minor": 5
}

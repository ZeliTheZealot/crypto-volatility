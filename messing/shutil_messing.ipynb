{
 "cells": [
  {
   "cell_type": "code",
   "execution_count": 1,
   "id": "b5d3f2f6",
   "metadata": {},
   "outputs": [],
   "source": [
    "import shutil\n"
   ]
  },
  {
   "cell_type": "code",
   "execution_count": 2,
   "id": "71b2ff2a",
   "metadata": {},
   "outputs": [],
   "source": [
    "import pathlib"
   ]
  },
  {
   "cell_type": "code",
   "execution_count": 5,
   "id": "d2c7504c",
   "metadata": {},
   "outputs": [],
   "source": [
    "src = pathlib.Path.cwd().joinpath(\"binance_BTC_from_2019_05_01_to_2022_04_30.json\")"
   ]
  },
  {
   "cell_type": "code",
   "execution_count": 6,
   "id": "d7e3a451",
   "metadata": {},
   "outputs": [],
   "source": [
    "dst = pathlib.Path.cwd().joinpath(\"binance_BTC_from_2019_05_01_to_2022_04_30_new.json\")"
   ]
  },
  {
   "cell_type": "code",
   "execution_count": 7,
   "id": "374d3b07",
   "metadata": {},
   "outputs": [
    {
     "data": {
      "text/plain": [
       "WindowsPath('C:/Users/wang-/OneDrive/Term 2/Dissertation/experiments/scratches/binance_BTC_from_2019_05_01_to_2022_04_30_new.json')"
      ]
     },
     "execution_count": 7,
     "metadata": {},
     "output_type": "execute_result"
    }
   ],
   "source": [
    "dst"
   ]
  },
  {
   "cell_type": "code",
   "execution_count": 8,
   "id": "3326d30b",
   "metadata": {},
   "outputs": [
    {
     "data": {
      "text/plain": [
       "WindowsPath('C:/Users/wang-/OneDrive/Term 2/Dissertation/experiments/scratches/binance_BTC_from_2019_05_01_to_2022_04_30_new.json')"
      ]
     },
     "execution_count": 8,
     "metadata": {},
     "output_type": "execute_result"
    }
   ],
   "source": [
    "shutil.copy(src, dst)"
   ]
  },
  {
   "cell_type": "code",
   "execution_count": null,
   "id": "92a6d136",
   "metadata": {},
   "outputs": [],
   "source": []
  }
 ],
 "metadata": {
  "kernelspec": {
   "display_name": "Python 3 (ipykernel)",
   "language": "python",
   "name": "python3"
  },
  "language_info": {
   "codemirror_mode": {
    "name": "ipython",
    "version": 3
   },
   "file_extension": ".py",
   "mimetype": "text/x-python",
   "name": "python",
   "nbconvert_exporter": "python",
   "pygments_lexer": "ipython3",
   "version": "3.7.9"
  }
 },
 "nbformat": 4,
 "nbformat_minor": 5
}

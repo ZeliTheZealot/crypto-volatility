{
 "cells": [
  {
   "cell_type": "code",
   "execution_count": 1,
   "id": "15b0efd5-d63f-4306-8651-2bfc1cb6643f",
   "metadata": {},
   "outputs": [],
   "source": [
    "import pandas as pd"
   ]
  },
  {
   "cell_type": "code",
   "execution_count": 20,
   "id": "941be6f3-61d8-4e7c-a956-90a5e49c7e1c",
   "metadata": {},
   "outputs": [],
   "source": [
    "import copy"
   ]
  },
  {
   "cell_type": "code",
   "execution_count": null,
   "id": "629d68e4-cce0-4d60-8e84-4af93d604f43",
   "metadata": {},
   "outputs": [],
   "source": []
  },
  {
   "cell_type": "code",
   "execution_count": 21,
   "id": "400d3c31-20bf-4a4d-8c58-2bc12ea9eb33",
   "metadata": {},
   "outputs": [],
   "source": [
    "d2 = copy.deepcopy(d1)"
   ]
  },
  {
   "cell_type": "code",
   "execution_count": 22,
   "id": "915bdf41-6d8c-448d-9237-967a8f0a359a",
   "metadata": {},
   "outputs": [
    {
     "data": {
      "text/plain": [
       "{'A': {'a': [1, 2, 3, 4, 5], 'b': [6, 7, 8, 9, 1]},\n",
       " 'B': {'a': [2, 3, 4, 5, 6], 'b': [7, 8, 9, 1]}}"
      ]
     },
     "execution_count": 22,
     "metadata": {},
     "output_type": "execute_result"
    }
   ],
   "source": [
    "d2"
   ]
  },
  {
   "cell_type": "code",
   "execution_count": 19,
   "id": "e9da05d0-21de-45c2-9fc4-eec68f7ae3c2",
   "metadata": {},
   "outputs": [],
   "source": [
    "d1 = {'A' : \n",
    "                {'a': [1,2,3,4,5],\n",
    "                'b': [6,7,8,9,1]\n",
    "                },\n",
    "\n",
    "              'B' : \n",
    "                  {'a': [2,3,4,5,6],\n",
    "                    'b': [7,8,9,1,]\n",
    "                  }\n",
    "             }"
   ]
  },
  {
   "cell_type": "code",
   "execution_count": 23,
   "id": "92728c31-507e-4dd4-b2e6-598b5786a595",
   "metadata": {},
   "outputs": [],
   "source": [
    "d3 = {1: d1, 2: d2}"
   ]
  },
  {
   "cell_type": "code",
   "execution_count": 42,
   "id": "e31b563b-35c9-46d2-b981-4a7bd85bce5e",
   "metadata": {},
   "outputs": [
    {
     "data": {
      "text/plain": [
       "{1: {'A': {'a': [1, 2, 3, 4, 5], 'b': [6, 7, 8, 9, 1]},\n",
       "  'B': {'a': [2, 3, 4, 5, 6], 'b': [7, 8, 9, 1]}},\n",
       " 2: {'A': {'a': [1, 2, 3, 4, 5], 'b': [6, 7, 8, 9, 1]},\n",
       "  'B': {'a': [2, 3, 4, 5, 6], 'b': [7, 8, 9, 1]}}}"
      ]
     },
     "execution_count": 42,
     "metadata": {},
     "output_type": "execute_result"
    }
   ],
   "source": [
    "d3"
   ]
  },
  {
   "cell_type": "code",
   "execution_count": 49,
   "id": "9df56a4f-358a-49c9-a22a-c57acfbd6abc",
   "metadata": {},
   "outputs": [],
   "source": [
    "def my_flatten_dict(feed):\n",
    "    result = dict()\n",
    "    if isinstance(feed, dict):\n",
    "        for key, value in feed.items():\n",
    "            new_dict = flatten_dict(value)\n",
    "            for new_key, new_value in new_dict.items():\n",
    "                new_key = list(new_key)\n",
    "                new_key.insert(0, key)\n",
    "                result[tuple(new_key)] = new_value\n",
    "    else:\n",
    "        result[()] = feed\n",
    "    return result"
   ]
  },
  {
   "cell_type": "code",
   "execution_count": 50,
   "id": "4085b457-87c0-4e0e-8cdc-61125a72ffcb",
   "metadata": {},
   "outputs": [
    {
     "data": {
      "text/plain": [
       "{(1, 'A', 'a'): [1, 2, 3, 4, 5],\n",
       " (1, 'A', 'b'): [6, 7, 8, 9, 1],\n",
       " (1, 'B', 'a'): [2, 3, 4, 5, 6],\n",
       " (1, 'B', 'b'): [7, 8, 9, 1],\n",
       " (2, 'A', 'a'): [1, 2, 3, 4, 5],\n",
       " (2, 'A', 'b'): [6, 7, 8, 9, 1],\n",
       " (2, 'B', 'a'): [2, 3, 4, 5, 6],\n",
       " (2, 'B', 'b'): [7, 8, 9, 1]}"
      ]
     },
     "execution_count": 50,
     "metadata": {},
     "output_type": "execute_result"
    }
   ],
   "source": [
    "my_flatten_dict(d3)"
   ]
  },
  {
   "cell_type": "code",
   "execution_count": 48,
   "id": "619cd39b-6bf5-4d53-bcd3-9fdcdb6f941a",
   "metadata": {},
   "outputs": [
    {
     "data": {
      "text/plain": [
       "{'a': [1, 2, 3, 4, 5], 'b': [6, 7, 8, 9, 1]}"
      ]
     },
     "execution_count": 48,
     "metadata": {},
     "output_type": "execute_result"
    }
   ],
   "source": [
    "d3[1]['A']"
   ]
  },
  {
   "cell_type": "code",
   "execution_count": 43,
   "id": "d5ac407c-6f5b-477f-8fb8-6832d3b8cead",
   "metadata": {},
   "outputs": [
    {
     "data": {
      "text/plain": [
       "[1, 2, 3, 4, 5]"
      ]
     },
     "execution_count": 43,
     "metadata": {},
     "output_type": "execute_result"
    }
   ],
   "source": [
    "d3[1]['A']['a']"
   ]
  },
  {
   "cell_type": "code",
   "execution_count": 47,
   "id": "62c6dcf6-c59c-48f5-bd61-19ac3375eccc",
   "metadata": {},
   "outputs": [
    {
     "data": {
      "text/plain": [
       "{(): [1, 2, 3, 4, 5]}"
      ]
     },
     "execution_count": 47,
     "metadata": {},
     "output_type": "execute_result"
    }
   ],
   "source": [
    "my_flatten_dict(d3[1]['A']['a'])"
   ]
  },
  {
   "cell_type": "code",
   "execution_count": 35,
   "id": "d12e8999-db4c-4f3f-84b6-c3da53d40629",
   "metadata": {},
   "outputs": [],
   "source": [
    "def flatten_dict(nested_dict):\n",
    "    res = {}\n",
    "    if isinstance(nested_dict, dict):\n",
    "        for k in nested_dict:\n",
    "            flattened_dict = flatten_dict(nested_dict[k])\n",
    "            for key, val in flattened_dict.items():\n",
    "                key = list(key)\n",
    "                key.insert(0, k)\n",
    "                res[tuple(key)] = val\n",
    "    else:\n",
    "        res[()] = nested_dict\n",
    "    return res\n",
    "\n",
    "\n",
    "def nested_dict_to_df(values_dict):\n",
    "    flat_dict = flatten_dict(values_dict)\n",
    "    df = pd.DataFrame.from_dict(flat_dict, orient=\"index\")\n",
    "    df.index = pd.MultiIndex.from_tuples(df.index)\n",
    "    df = df.unstack(level=-1)\n",
    "    df.columns = df.columns.map(\"{0[1]}\".format)\n",
    "    return df"
   ]
  },
  {
   "cell_type": "code",
   "execution_count": null,
   "id": "fc688aeb-d7ab-4efb-ba9c-905a0761615a",
   "metadata": {},
   "outputs": [],
   "source": []
  },
  {
   "cell_type": "code",
   "execution_count": 39,
   "id": "79ce5144-4f8e-45b3-878a-25a17907afa2",
   "metadata": {},
   "outputs": [
    {
     "data": {
      "text/plain": [
       "{1: {'A': {'a': [1, 2, 3, 4, 5], 'b': [6, 7, 8, 9, 1]},\n",
       "  'B': {'a': [2, 3, 4, 5, 6], 'b': [7, 8, 9, 1]}},\n",
       " 2: {'A': {'a': [1, 2, 3, 4, 5], 'b': [6, 7, 8, 9, 1]},\n",
       "  'B': {'a': [2, 3, 4, 5, 6], 'b': [7, 8, 9, 1]}}}"
      ]
     },
     "execution_count": 39,
     "metadata": {},
     "output_type": "execute_result"
    }
   ],
   "source": [
    "d3"
   ]
  },
  {
   "cell_type": "code",
   "execution_count": 37,
   "id": "980d5e22-3a34-4081-ba2e-f6a49e85ec31",
   "metadata": {},
   "outputs": [],
   "source": [
    "d4 = flatten_dict(d3)"
   ]
  },
  {
   "cell_type": "code",
   "execution_count": 40,
   "id": "e90a70de-12f5-4b62-9adf-ea9ed7494665",
   "metadata": {},
   "outputs": [],
   "source": [
    "dft = pd.DataFrame.from_dict(d4, orient='index')"
   ]
  },
  {
   "cell_type": "code",
   "execution_count": 41,
   "id": "7826feba-104b-4ac8-a316-02e20bb4dee1",
   "metadata": {},
   "outputs": [
    {
     "data": {
      "text/html": [
       "<div>\n",
       "<style scoped>\n",
       "    .dataframe tbody tr th:only-of-type {\n",
       "        vertical-align: middle;\n",
       "    }\n",
       "\n",
       "    .dataframe tbody tr th {\n",
       "        vertical-align: top;\n",
       "    }\n",
       "\n",
       "    .dataframe thead th {\n",
       "        text-align: right;\n",
       "    }\n",
       "</style>\n",
       "<table border=\"1\" class=\"dataframe\">\n",
       "  <thead>\n",
       "    <tr style=\"text-align: right;\">\n",
       "      <th></th>\n",
       "      <th>0</th>\n",
       "      <th>1</th>\n",
       "      <th>2</th>\n",
       "      <th>3</th>\n",
       "      <th>4</th>\n",
       "    </tr>\n",
       "  </thead>\n",
       "  <tbody>\n",
       "    <tr>\n",
       "      <th>(1, A, a)</th>\n",
       "      <td>1</td>\n",
       "      <td>2</td>\n",
       "      <td>3</td>\n",
       "      <td>4</td>\n",
       "      <td>5.0</td>\n",
       "    </tr>\n",
       "    <tr>\n",
       "      <th>(1, A, b)</th>\n",
       "      <td>6</td>\n",
       "      <td>7</td>\n",
       "      <td>8</td>\n",
       "      <td>9</td>\n",
       "      <td>1.0</td>\n",
       "    </tr>\n",
       "    <tr>\n",
       "      <th>(1, B, a)</th>\n",
       "      <td>2</td>\n",
       "      <td>3</td>\n",
       "      <td>4</td>\n",
       "      <td>5</td>\n",
       "      <td>6.0</td>\n",
       "    </tr>\n",
       "    <tr>\n",
       "      <th>(1, B, b)</th>\n",
       "      <td>7</td>\n",
       "      <td>8</td>\n",
       "      <td>9</td>\n",
       "      <td>1</td>\n",
       "      <td>NaN</td>\n",
       "    </tr>\n",
       "    <tr>\n",
       "      <th>(2, A, a)</th>\n",
       "      <td>1</td>\n",
       "      <td>2</td>\n",
       "      <td>3</td>\n",
       "      <td>4</td>\n",
       "      <td>5.0</td>\n",
       "    </tr>\n",
       "    <tr>\n",
       "      <th>(2, A, b)</th>\n",
       "      <td>6</td>\n",
       "      <td>7</td>\n",
       "      <td>8</td>\n",
       "      <td>9</td>\n",
       "      <td>1.0</td>\n",
       "    </tr>\n",
       "    <tr>\n",
       "      <th>(2, B, a)</th>\n",
       "      <td>2</td>\n",
       "      <td>3</td>\n",
       "      <td>4</td>\n",
       "      <td>5</td>\n",
       "      <td>6.0</td>\n",
       "    </tr>\n",
       "    <tr>\n",
       "      <th>(2, B, b)</th>\n",
       "      <td>7</td>\n",
       "      <td>8</td>\n",
       "      <td>9</td>\n",
       "      <td>1</td>\n",
       "      <td>NaN</td>\n",
       "    </tr>\n",
       "  </tbody>\n",
       "</table>\n",
       "</div>"
      ],
      "text/plain": [
       "           0  1  2  3    4\n",
       "(1, A, a)  1  2  3  4  5.0\n",
       "(1, A, b)  6  7  8  9  1.0\n",
       "(1, B, a)  2  3  4  5  6.0\n",
       "(1, B, b)  7  8  9  1  NaN\n",
       "(2, A, a)  1  2  3  4  5.0\n",
       "(2, A, b)  6  7  8  9  1.0\n",
       "(2, B, a)  2  3  4  5  6.0\n",
       "(2, B, b)  7  8  9  1  NaN"
      ]
     },
     "execution_count": 41,
     "metadata": {},
     "output_type": "execute_result"
    }
   ],
   "source": [
    "dft"
   ]
  },
  {
   "cell_type": "code",
   "execution_count": null,
   "id": "1f979968-2396-49a7-be03-032efd7f359f",
   "metadata": {},
   "outputs": [],
   "source": []
  },
  {
   "cell_type": "code",
   "execution_count": null,
   "id": "97efc9cf-59c5-4b1b-a7fb-5f285e9e8602",
   "metadata": {},
   "outputs": [],
   "source": []
  },
  {
   "cell_type": "code",
   "execution_count": 38,
   "id": "4834c282-e7ac-404b-8a2f-57feb83bff29",
   "metadata": {},
   "outputs": [
    {
     "data": {
      "text/html": [
       "<div>\n",
       "<style scoped>\n",
       "    .dataframe tbody tr th:only-of-type {\n",
       "        vertical-align: middle;\n",
       "    }\n",
       "\n",
       "    .dataframe tbody tr th {\n",
       "        vertical-align: top;\n",
       "    }\n",
       "\n",
       "    .dataframe thead th {\n",
       "        text-align: right;\n",
       "    }\n",
       "</style>\n",
       "<table border=\"1\" class=\"dataframe\">\n",
       "  <thead>\n",
       "    <tr style=\"text-align: right;\">\n",
       "      <th></th>\n",
       "      <th></th>\n",
       "      <th>a</th>\n",
       "      <th>b</th>\n",
       "      <th>a</th>\n",
       "      <th>b</th>\n",
       "      <th>a</th>\n",
       "      <th>b</th>\n",
       "      <th>a</th>\n",
       "      <th>b</th>\n",
       "      <th>a</th>\n",
       "      <th>b</th>\n",
       "    </tr>\n",
       "  </thead>\n",
       "  <tbody>\n",
       "    <tr>\n",
       "      <th rowspan=\"2\" valign=\"top\">1</th>\n",
       "      <th>A</th>\n",
       "      <td>1</td>\n",
       "      <td>6</td>\n",
       "      <td>2</td>\n",
       "      <td>7</td>\n",
       "      <td>3</td>\n",
       "      <td>8</td>\n",
       "      <td>4</td>\n",
       "      <td>9</td>\n",
       "      <td>5.0</td>\n",
       "      <td>1.0</td>\n",
       "    </tr>\n",
       "    <tr>\n",
       "      <th>B</th>\n",
       "      <td>2</td>\n",
       "      <td>7</td>\n",
       "      <td>3</td>\n",
       "      <td>8</td>\n",
       "      <td>4</td>\n",
       "      <td>9</td>\n",
       "      <td>5</td>\n",
       "      <td>1</td>\n",
       "      <td>6.0</td>\n",
       "      <td>NaN</td>\n",
       "    </tr>\n",
       "    <tr>\n",
       "      <th rowspan=\"2\" valign=\"top\">2</th>\n",
       "      <th>A</th>\n",
       "      <td>1</td>\n",
       "      <td>6</td>\n",
       "      <td>2</td>\n",
       "      <td>7</td>\n",
       "      <td>3</td>\n",
       "      <td>8</td>\n",
       "      <td>4</td>\n",
       "      <td>9</td>\n",
       "      <td>5.0</td>\n",
       "      <td>1.0</td>\n",
       "    </tr>\n",
       "    <tr>\n",
       "      <th>B</th>\n",
       "      <td>2</td>\n",
       "      <td>7</td>\n",
       "      <td>3</td>\n",
       "      <td>8</td>\n",
       "      <td>4</td>\n",
       "      <td>9</td>\n",
       "      <td>5</td>\n",
       "      <td>1</td>\n",
       "      <td>6.0</td>\n",
       "      <td>NaN</td>\n",
       "    </tr>\n",
       "  </tbody>\n",
       "</table>\n",
       "</div>"
      ],
      "text/plain": [
       "     a  b  a  b  a  b  a  b    a    b\n",
       "1 A  1  6  2  7  3  8  4  9  5.0  1.0\n",
       "  B  2  7  3  8  4  9  5  1  6.0  NaN\n",
       "2 A  1  6  2  7  3  8  4  9  5.0  1.0\n",
       "  B  2  7  3  8  4  9  5  1  6.0  NaN"
      ]
     },
     "execution_count": 38,
     "metadata": {},
     "output_type": "execute_result"
    }
   ],
   "source": [
    "nested_dict_to_df(d3)"
   ]
  },
  {
   "cell_type": "code",
   "execution_count": null,
   "id": "80f00df9-9146-4486-bf5d-69b548df8f16",
   "metadata": {},
   "outputs": [],
   "source": []
  },
  {
   "cell_type": "code",
   "execution_count": null,
   "id": "210da83f-c84a-4ced-aaa9-c7f6df80de58",
   "metadata": {},
   "outputs": [],
   "source": []
  },
  {
   "cell_type": "code",
   "execution_count": 24,
   "id": "7b856caa-4d21-4a87-b7d0-d62b57cc6c35",
   "metadata": {},
   "outputs": [],
   "source": [
    "df = (\n",
    "    pd.DataFrame.from_dict(d3, orient='index')\n",
    "    .stack()\n",
    "    .to_frame()\n",
    ")"
   ]
  },
  {
   "cell_type": "code",
   "execution_count": 34,
   "id": "92dfe2eb-9b0b-46c7-9bd2-ca298294e5c9",
   "metadata": {},
   "outputs": [
    {
     "data": {
      "text/html": [
       "<div>\n",
       "<style scoped>\n",
       "    .dataframe tbody tr th:only-of-type {\n",
       "        vertical-align: middle;\n",
       "    }\n",
       "\n",
       "    .dataframe tbody tr th {\n",
       "        vertical-align: top;\n",
       "    }\n",
       "\n",
       "    .dataframe thead th {\n",
       "        text-align: right;\n",
       "    }\n",
       "</style>\n",
       "<table border=\"1\" class=\"dataframe\">\n",
       "  <thead>\n",
       "    <tr style=\"text-align: right;\">\n",
       "      <th></th>\n",
       "      <th></th>\n",
       "      <th>0</th>\n",
       "    </tr>\n",
       "  </thead>\n",
       "  <tbody>\n",
       "    <tr>\n",
       "      <th rowspan=\"2\" valign=\"top\">1</th>\n",
       "      <th>A</th>\n",
       "      <td>{'a': [1, 2, 3, 4, 5], 'b': [6, 7, 8, 9, 1]}</td>\n",
       "    </tr>\n",
       "    <tr>\n",
       "      <th>B</th>\n",
       "      <td>{'a': [2, 3, 4, 5, 6], 'b': [7, 8, 9, 1]}</td>\n",
       "    </tr>\n",
       "    <tr>\n",
       "      <th rowspan=\"2\" valign=\"top\">2</th>\n",
       "      <th>A</th>\n",
       "      <td>{'a': [1, 2, 3, 4, 5], 'b': [6, 7, 8, 9, 1]}</td>\n",
       "    </tr>\n",
       "    <tr>\n",
       "      <th>B</th>\n",
       "      <td>{'a': [2, 3, 4, 5, 6], 'b': [7, 8, 9, 1]}</td>\n",
       "    </tr>\n",
       "  </tbody>\n",
       "</table>\n",
       "</div>"
      ],
      "text/plain": [
       "                                                0\n",
       "1 A  {'a': [1, 2, 3, 4, 5], 'b': [6, 7, 8, 9, 1]}\n",
       "  B     {'a': [2, 3, 4, 5, 6], 'b': [7, 8, 9, 1]}\n",
       "2 A  {'a': [1, 2, 3, 4, 5], 'b': [6, 7, 8, 9, 1]}\n",
       "  B     {'a': [2, 3, 4, 5, 6], 'b': [7, 8, 9, 1]}"
      ]
     },
     "execution_count": 34,
     "metadata": {},
     "output_type": "execute_result"
    }
   ],
   "source": [
    "df"
   ]
  },
  {
   "cell_type": "code",
   "execution_count": 26,
   "id": "04d16aba-32d7-4963-b5d5-ed2ea82ee92a",
   "metadata": {},
   "outputs": [
    {
     "data": {
      "text/html": [
       "<div>\n",
       "<style scoped>\n",
       "    .dataframe tbody tr th:only-of-type {\n",
       "        vertical-align: middle;\n",
       "    }\n",
       "\n",
       "    .dataframe tbody tr th {\n",
       "        vertical-align: top;\n",
       "    }\n",
       "\n",
       "    .dataframe thead th {\n",
       "        text-align: right;\n",
       "    }\n",
       "</style>\n",
       "<table border=\"1\" class=\"dataframe\">\n",
       "  <thead>\n",
       "    <tr style=\"text-align: right;\">\n",
       "      <th></th>\n",
       "      <th></th>\n",
       "      <th>a</th>\n",
       "      <th>b</th>\n",
       "    </tr>\n",
       "  </thead>\n",
       "  <tbody>\n",
       "    <tr>\n",
       "      <th rowspan=\"2\" valign=\"top\">1</th>\n",
       "      <th>A</th>\n",
       "      <td>[1, 2, 3, 4, 5]</td>\n",
       "      <td>[6, 7, 8, 9, 1]</td>\n",
       "    </tr>\n",
       "    <tr>\n",
       "      <th>B</th>\n",
       "      <td>[2, 3, 4, 5, 6]</td>\n",
       "      <td>[7, 8, 9, 1]</td>\n",
       "    </tr>\n",
       "    <tr>\n",
       "      <th rowspan=\"2\" valign=\"top\">2</th>\n",
       "      <th>A</th>\n",
       "      <td>[1, 2, 3, 4, 5]</td>\n",
       "      <td>[6, 7, 8, 9, 1]</td>\n",
       "    </tr>\n",
       "    <tr>\n",
       "      <th>B</th>\n",
       "      <td>[2, 3, 4, 5, 6]</td>\n",
       "      <td>[7, 8, 9, 1]</td>\n",
       "    </tr>\n",
       "  </tbody>\n",
       "</table>\n",
       "</div>"
      ],
      "text/plain": [
       "                   a                b\n",
       "1 A  [1, 2, 3, 4, 5]  [6, 7, 8, 9, 1]\n",
       "  B  [2, 3, 4, 5, 6]     [7, 8, 9, 1]\n",
       "2 A  [1, 2, 3, 4, 5]  [6, 7, 8, 9, 1]\n",
       "  B  [2, 3, 4, 5, 6]     [7, 8, 9, 1]"
      ]
     },
     "execution_count": 26,
     "metadata": {},
     "output_type": "execute_result"
    }
   ],
   "source": [
    "pd.DataFrame(\n",
    "    df[0].values.tolist(), index=df.index\n",
    ")"
   ]
  },
  {
   "cell_type": "code",
   "execution_count": 30,
   "id": "683da7ac-658b-4a04-abc7-d3afe780ddee",
   "metadata": {},
   "outputs": [],
   "source": [
    "dfn = df.stack().to_frame()"
   ]
  },
  {
   "cell_type": "code",
   "execution_count": 33,
   "id": "b5dad1ed-d2bf-499c-b9df-822d5125a122",
   "metadata": {},
   "outputs": [
    {
     "data": {
      "text/html": [
       "<div>\n",
       "<style scoped>\n",
       "    .dataframe tbody tr th:only-of-type {\n",
       "        vertical-align: middle;\n",
       "    }\n",
       "\n",
       "    .dataframe tbody tr th {\n",
       "        vertical-align: top;\n",
       "    }\n",
       "\n",
       "    .dataframe thead th {\n",
       "        text-align: right;\n",
       "    }\n",
       "</style>\n",
       "<table border=\"1\" class=\"dataframe\">\n",
       "  <thead>\n",
       "    <tr style=\"text-align: right;\">\n",
       "      <th></th>\n",
       "      <th></th>\n",
       "      <th></th>\n",
       "      <th>0</th>\n",
       "    </tr>\n",
       "  </thead>\n",
       "  <tbody>\n",
       "    <tr>\n",
       "      <th rowspan=\"2\" valign=\"top\">1</th>\n",
       "      <th>A</th>\n",
       "      <th>0</th>\n",
       "      <td>{'a': [1, 2, 3, 4, 5], 'b': [6, 7, 8, 9, 1]}</td>\n",
       "    </tr>\n",
       "    <tr>\n",
       "      <th>B</th>\n",
       "      <th>0</th>\n",
       "      <td>{'a': [2, 3, 4, 5, 6], 'b': [7, 8, 9, 1]}</td>\n",
       "    </tr>\n",
       "    <tr>\n",
       "      <th rowspan=\"2\" valign=\"top\">2</th>\n",
       "      <th>A</th>\n",
       "      <th>0</th>\n",
       "      <td>{'a': [1, 2, 3, 4, 5], 'b': [6, 7, 8, 9, 1]}</td>\n",
       "    </tr>\n",
       "    <tr>\n",
       "      <th>B</th>\n",
       "      <th>0</th>\n",
       "      <td>{'a': [2, 3, 4, 5, 6], 'b': [7, 8, 9, 1]}</td>\n",
       "    </tr>\n",
       "  </tbody>\n",
       "</table>\n",
       "</div>"
      ],
      "text/plain": [
       "                                                  0\n",
       "1 A 0  {'a': [1, 2, 3, 4, 5], 'b': [6, 7, 8, 9, 1]}\n",
       "  B 0     {'a': [2, 3, 4, 5, 6], 'b': [7, 8, 9, 1]}\n",
       "2 A 0  {'a': [1, 2, 3, 4, 5], 'b': [6, 7, 8, 9, 1]}\n",
       "  B 0     {'a': [2, 3, 4, 5, 6], 'b': [7, 8, 9, 1]}"
      ]
     },
     "execution_count": 33,
     "metadata": {},
     "output_type": "execute_result"
    }
   ],
   "source": [
    "dfn"
   ]
  },
  {
   "cell_type": "code",
   "execution_count": 32,
   "id": "f31ddb1f-cf36-44c0-a73d-d5c3c7b0de2f",
   "metadata": {},
   "outputs": [
    {
     "data": {
      "text/html": [
       "<div>\n",
       "<style scoped>\n",
       "    .dataframe tbody tr th:only-of-type {\n",
       "        vertical-align: middle;\n",
       "    }\n",
       "\n",
       "    .dataframe tbody tr th {\n",
       "        vertical-align: top;\n",
       "    }\n",
       "\n",
       "    .dataframe thead th {\n",
       "        text-align: right;\n",
       "    }\n",
       "</style>\n",
       "<table border=\"1\" class=\"dataframe\">\n",
       "  <thead>\n",
       "    <tr style=\"text-align: right;\">\n",
       "      <th></th>\n",
       "      <th></th>\n",
       "      <th></th>\n",
       "      <th>a</th>\n",
       "      <th>b</th>\n",
       "    </tr>\n",
       "  </thead>\n",
       "  <tbody>\n",
       "    <tr>\n",
       "      <th rowspan=\"2\" valign=\"top\">1</th>\n",
       "      <th>A</th>\n",
       "      <th>0</th>\n",
       "      <td>[1, 2, 3, 4, 5]</td>\n",
       "      <td>[6, 7, 8, 9, 1]</td>\n",
       "    </tr>\n",
       "    <tr>\n",
       "      <th>B</th>\n",
       "      <th>0</th>\n",
       "      <td>[2, 3, 4, 5, 6]</td>\n",
       "      <td>[7, 8, 9, 1]</td>\n",
       "    </tr>\n",
       "    <tr>\n",
       "      <th rowspan=\"2\" valign=\"top\">2</th>\n",
       "      <th>A</th>\n",
       "      <th>0</th>\n",
       "      <td>[1, 2, 3, 4, 5]</td>\n",
       "      <td>[6, 7, 8, 9, 1]</td>\n",
       "    </tr>\n",
       "    <tr>\n",
       "      <th>B</th>\n",
       "      <th>0</th>\n",
       "      <td>[2, 3, 4, 5, 6]</td>\n",
       "      <td>[7, 8, 9, 1]</td>\n",
       "    </tr>\n",
       "  </tbody>\n",
       "</table>\n",
       "</div>"
      ],
      "text/plain": [
       "                     a                b\n",
       "1 A 0  [1, 2, 3, 4, 5]  [6, 7, 8, 9, 1]\n",
       "  B 0  [2, 3, 4, 5, 6]     [7, 8, 9, 1]\n",
       "2 A 0  [1, 2, 3, 4, 5]  [6, 7, 8, 9, 1]\n",
       "  B 0  [2, 3, 4, 5, 6]     [7, 8, 9, 1]"
      ]
     },
     "execution_count": 32,
     "metadata": {},
     "output_type": "execute_result"
    }
   ],
   "source": [
    "pd.DataFrame(\n",
    "    dfn[0].values.tolist(), index=dfn.index\n",
    ")"
   ]
  },
  {
   "cell_type": "code",
   "execution_count": 8,
   "id": "a2e5f173-e5d7-4c21-b24a-ccbea1bbc366",
   "metadata": {},
   "outputs": [
    {
     "data": {
      "text/plain": [
       "A  a    [1, 2, 3, 4, 5]\n",
       "   b    [6, 7, 8, 9, 1]\n",
       "B  a    [2, 3, 4, 5, 6]\n",
       "   b    [7, 8, 9, 1, 2]\n",
       "dtype: object"
      ]
     },
     "execution_count": 8,
     "metadata": {},
     "output_type": "execute_result"
    }
   ],
   "source": [
    "pd.DataFrame.from_dict(dictionary, orient='index').stack()"
   ]
  },
  {
   "cell_type": "code",
   "execution_count": null,
   "id": "8a1e2fa0-e5c3-451f-bdde-cf9b991d9475",
   "metadata": {},
   "outputs": [],
   "source": []
  },
  {
   "cell_type": "code",
   "execution_count": null,
   "id": "aeeec861-a961-4fb5-9f46-5b8d5a58064f",
   "metadata": {},
   "outputs": [],
   "source": []
  }
 ],
 "metadata": {
  "kernelspec": {
   "display_name": "Python 3 (ipykernel)",
   "language": "python",
   "name": "python3"
  },
  "language_info": {
   "codemirror_mode": {
    "name": "ipython",
    "version": 3
   },
   "file_extension": ".py",
   "mimetype": "text/x-python",
   "name": "python",
   "nbconvert_exporter": "python",
   "pygments_lexer": "ipython3",
   "version": "3.7.9"
  }
 },
 "nbformat": 4,
 "nbformat_minor": 5
}

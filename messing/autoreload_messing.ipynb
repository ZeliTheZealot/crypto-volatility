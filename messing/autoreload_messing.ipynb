{
 "cells": [
  {
   "cell_type": "code",
   "execution_count": 1,
   "id": "2e470be3-8463-404c-8fdf-8e6f678119e6",
   "metadata": {},
   "outputs": [],
   "source": [
    "%load_ext autoreload"
   ]
  },
  {
   "cell_type": "code",
   "execution_count": 2,
   "id": "951023eb-3f53-4d6a-bb20-d8987b5da601",
   "metadata": {},
   "outputs": [],
   "source": [
    "%autoreload 1"
   ]
  },
  {
   "cell_type": "code",
   "execution_count": 3,
   "id": "fd7e805a-94c7-4e12-8f59-45512aba9979",
   "metadata": {},
   "outputs": [],
   "source": [
    "from utils.to_be_tested import seven"
   ]
  },
  {
   "cell_type": "code",
   "execution_count": 4,
   "id": "38edd443-b02a-4c04-8767-3c6deb0d17c6",
   "metadata": {},
   "outputs": [],
   "source": [
    "%aimport utils.to_be_tested"
   ]
  },
  {
   "cell_type": "code",
   "execution_count": 7,
   "id": "fe7b5b1e-053c-4823-923d-f8bf84187300",
   "metadata": {},
   "outputs": [
    {
     "data": {
      "text/plain": [
       "9"
      ]
     },
     "execution_count": 7,
     "metadata": {},
     "output_type": "execute_result"
    }
   ],
   "source": [
    "seven()"
   ]
  },
  {
   "cell_type": "code",
   "execution_count": null,
   "id": "471e95b1-e135-4ccd-9ad3-111dd324e088",
   "metadata": {},
   "outputs": [],
   "source": []
  }
 ],
 "metadata": {
  "kernelspec": {
   "display_name": "Python 3 (ipykernel)",
   "language": "python",
   "name": "python3"
  },
  "language_info": {
   "codemirror_mode": {
    "name": "ipython",
    "version": 3
   },
   "file_extension": ".py",
   "mimetype": "text/x-python",
   "name": "python",
   "nbconvert_exporter": "python",
   "pygments_lexer": "ipython3",
   "version": "3.7.9"
  }
 },
 "nbformat": 4,
 "nbformat_minor": 5
}

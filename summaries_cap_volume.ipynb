{
 "cells": [
  {
   "cell_type": "code",
   "execution_count": 15,
   "id": "f95077e1",
   "metadata": {},
   "outputs": [],
   "source": [
    "import pandas as pd"
   ]
  },
  {
   "cell_type": "code",
   "execution_count": 16,
   "id": "a77d0cad",
   "metadata": {},
   "outputs": [],
   "source": [
    "summaries_df = pd.read_csv(\"summaries.csv\")"
   ]
  },
  {
   "cell_type": "code",
   "execution_count": 17,
   "id": "83328cf4",
   "metadata": {},
   "outputs": [
    {
     "data": {
      "text/html": [
       "<div>\n",
       "<style scoped>\n",
       "    .dataframe tbody tr th:only-of-type {\n",
       "        vertical-align: middle;\n",
       "    }\n",
       "\n",
       "    .dataframe tbody tr th {\n",
       "        vertical-align: top;\n",
       "    }\n",
       "\n",
       "    .dataframe thead th {\n",
       "        text-align: right;\n",
       "    }\n",
       "</style>\n",
       "<table border=\"1\" class=\"dataframe\">\n",
       "  <thead>\n",
       "    <tr style=\"text-align: right;\">\n",
       "      <th></th>\n",
       "      <th>Symbol</th>\n",
       "      <th>Name</th>\n",
       "      <th>Market Cap Number</th>\n",
       "      <th>Market Cap Modifier</th>\n",
       "      <th>Market Cap</th>\n",
       "    </tr>\n",
       "  </thead>\n",
       "  <tbody>\n",
       "    <tr>\n",
       "      <th>0</th>\n",
       "      <td>BNB</td>\n",
       "      <td>BNB</td>\n",
       "      <td>54.00</td>\n",
       "      <td>B</td>\n",
       "      <td>5.400000e+10</td>\n",
       "    </tr>\n",
       "    <tr>\n",
       "      <th>1</th>\n",
       "      <td>ADA</td>\n",
       "      <td>Cardano</td>\n",
       "      <td>18.50</td>\n",
       "      <td>B</td>\n",
       "      <td>1.850000e+10</td>\n",
       "    </tr>\n",
       "    <tr>\n",
       "      <th>2</th>\n",
       "      <td>ETH</td>\n",
       "      <td>Ethereum</td>\n",
       "      <td>250.00</td>\n",
       "      <td>B</td>\n",
       "      <td>2.500000e+11</td>\n",
       "    </tr>\n",
       "    <tr>\n",
       "      <th>3</th>\n",
       "      <td>BAT</td>\n",
       "      <td>Basic Attention Token</td>\n",
       "      <td>620.00</td>\n",
       "      <td>M</td>\n",
       "      <td>6.200000e+08</td>\n",
       "    </tr>\n",
       "    <tr>\n",
       "      <th>4</th>\n",
       "      <td>USDC</td>\n",
       "      <td>USD Coin</td>\n",
       "      <td>53.00</td>\n",
       "      <td>B</td>\n",
       "      <td>5.300000e+10</td>\n",
       "    </tr>\n",
       "    <tr>\n",
       "      <th>5</th>\n",
       "      <td>USDT</td>\n",
       "      <td>Tether</td>\n",
       "      <td>73.00</td>\n",
       "      <td>B</td>\n",
       "      <td>7.300000e+10</td>\n",
       "    </tr>\n",
       "    <tr>\n",
       "      <th>6</th>\n",
       "      <td>NEO</td>\n",
       "      <td>Neo</td>\n",
       "      <td>870.00</td>\n",
       "      <td>M</td>\n",
       "      <td>8.700000e+08</td>\n",
       "    </tr>\n",
       "    <tr>\n",
       "      <th>7</th>\n",
       "      <td>TUSD</td>\n",
       "      <td>True USD</td>\n",
       "      <td>1.20</td>\n",
       "      <td>B</td>\n",
       "      <td>1.200000e+09</td>\n",
       "    </tr>\n",
       "    <tr>\n",
       "      <th>8</th>\n",
       "      <td>ETC</td>\n",
       "      <td>Ethereum Classic</td>\n",
       "      <td>3.00</td>\n",
       "      <td>B</td>\n",
       "      <td>3.000000e+09</td>\n",
       "    </tr>\n",
       "    <tr>\n",
       "      <th>9</th>\n",
       "      <td>LTC</td>\n",
       "      <td>Litecoin</td>\n",
       "      <td>5.10</td>\n",
       "      <td>B</td>\n",
       "      <td>5.100000e+09</td>\n",
       "    </tr>\n",
       "    <tr>\n",
       "      <th>10</th>\n",
       "      <td>XRP</td>\n",
       "      <td>Ripple</td>\n",
       "      <td>21.00</td>\n",
       "      <td>B</td>\n",
       "      <td>2.100000e+10</td>\n",
       "    </tr>\n",
       "    <tr>\n",
       "      <th>11</th>\n",
       "      <td>TRX</td>\n",
       "      <td>TRON</td>\n",
       "      <td>7.38</td>\n",
       "      <td>B</td>\n",
       "      <td>7.380000e+09</td>\n",
       "    </tr>\n",
       "    <tr>\n",
       "      <th>12</th>\n",
       "      <td>EOS</td>\n",
       "      <td>EOS</td>\n",
       "      <td>1.40</td>\n",
       "      <td>B</td>\n",
       "      <td>1.400000e+09</td>\n",
       "    </tr>\n",
       "    <tr>\n",
       "      <th>13</th>\n",
       "      <td>XMR</td>\n",
       "      <td>Monero</td>\n",
       "      <td>3.50</td>\n",
       "      <td>B</td>\n",
       "      <td>3.500000e+09</td>\n",
       "    </tr>\n",
       "    <tr>\n",
       "      <th>14</th>\n",
       "      <td>ZEC</td>\n",
       "      <td>Zcash</td>\n",
       "      <td>1.60</td>\n",
       "      <td>B</td>\n",
       "      <td>1.600000e+09</td>\n",
       "    </tr>\n",
       "    <tr>\n",
       "      <th>15</th>\n",
       "      <td>QTUM</td>\n",
       "      <td>Qtum</td>\n",
       "      <td>450.00</td>\n",
       "      <td>M</td>\n",
       "      <td>4.500000e+08</td>\n",
       "    </tr>\n",
       "    <tr>\n",
       "      <th>16</th>\n",
       "      <td>DCR</td>\n",
       "      <td>Decred</td>\n",
       "      <td>550.00</td>\n",
       "      <td>M</td>\n",
       "      <td>5.500000e+08</td>\n",
       "    </tr>\n",
       "    <tr>\n",
       "      <th>17</th>\n",
       "      <td>XLM</td>\n",
       "      <td>Stellar</td>\n",
       "      <td>3.40</td>\n",
       "      <td>B</td>\n",
       "      <td>3.400000e+09</td>\n",
       "    </tr>\n",
       "    <tr>\n",
       "      <th>18</th>\n",
       "      <td>IOTA</td>\n",
       "      <td>MIOTA</td>\n",
       "      <td>990.00</td>\n",
       "      <td>M</td>\n",
       "      <td>9.900000e+08</td>\n",
       "    </tr>\n",
       "    <tr>\n",
       "      <th>19</th>\n",
       "      <td>MANA</td>\n",
       "      <td>Decentraland</td>\n",
       "      <td>2.10</td>\n",
       "      <td>B</td>\n",
       "      <td>2.100000e+09</td>\n",
       "    </tr>\n",
       "    <tr>\n",
       "      <th>20</th>\n",
       "      <td>DASH</td>\n",
       "      <td>Digital Cash</td>\n",
       "      <td>680.00</td>\n",
       "      <td>M</td>\n",
       "      <td>6.800000e+08</td>\n",
       "    </tr>\n",
       "    <tr>\n",
       "      <th>21</th>\n",
       "      <td>ZRX</td>\n",
       "      <td>0x</td>\n",
       "      <td>390.00</td>\n",
       "      <td>M</td>\n",
       "      <td>3.900000e+08</td>\n",
       "    </tr>\n",
       "    <tr>\n",
       "      <th>22</th>\n",
       "      <td>SC</td>\n",
       "      <td>Siacoin</td>\n",
       "      <td>280.00</td>\n",
       "      <td>M</td>\n",
       "      <td>2.800000e+08</td>\n",
       "    </tr>\n",
       "    <tr>\n",
       "      <th>23</th>\n",
       "      <td>REP</td>\n",
       "      <td>Augur</td>\n",
       "      <td>150.00</td>\n",
       "      <td>M</td>\n",
       "      <td>1.500000e+08</td>\n",
       "    </tr>\n",
       "  </tbody>\n",
       "</table>\n",
       "</div>"
      ],
      "text/plain": [
       "   Symbol                   Name  Market Cap Number Market Cap Modifier  \\\n",
       "0     BNB                    BNB              54.00                   B   \n",
       "1     ADA                Cardano              18.50                   B   \n",
       "2     ETH               Ethereum             250.00                   B   \n",
       "3     BAT  Basic Attention Token             620.00                   M   \n",
       "4    USDC               USD Coin              53.00                   B   \n",
       "5    USDT                 Tether              73.00                   B   \n",
       "6     NEO                    Neo             870.00                   M   \n",
       "7    TUSD               True USD               1.20                   B   \n",
       "8     ETC       Ethereum Classic               3.00                   B   \n",
       "9     LTC               Litecoin               5.10                   B   \n",
       "10    XRP                 Ripple              21.00                   B   \n",
       "11    TRX                   TRON               7.38                   B   \n",
       "12    EOS                    EOS               1.40                   B   \n",
       "13    XMR                 Monero               3.50                   B   \n",
       "14    ZEC                  Zcash               1.60                   B   \n",
       "15   QTUM                   Qtum             450.00                   M   \n",
       "16    DCR                 Decred             550.00                   M   \n",
       "17    XLM                Stellar               3.40                   B   \n",
       "18   IOTA                  MIOTA             990.00                   M   \n",
       "19   MANA           Decentraland               2.10                   B   \n",
       "20   DASH           Digital Cash             680.00                   M   \n",
       "21    ZRX                     0x             390.00                   M   \n",
       "22     SC                Siacoin             280.00                   M   \n",
       "23    REP                  Augur             150.00                   M   \n",
       "\n",
       "      Market Cap  \n",
       "0   5.400000e+10  \n",
       "1   1.850000e+10  \n",
       "2   2.500000e+11  \n",
       "3   6.200000e+08  \n",
       "4   5.300000e+10  \n",
       "5   7.300000e+10  \n",
       "6   8.700000e+08  \n",
       "7   1.200000e+09  \n",
       "8   3.000000e+09  \n",
       "9   5.100000e+09  \n",
       "10  2.100000e+10  \n",
       "11  7.380000e+09  \n",
       "12  1.400000e+09  \n",
       "13  3.500000e+09  \n",
       "14  1.600000e+09  \n",
       "15  4.500000e+08  \n",
       "16  5.500000e+08  \n",
       "17  3.400000e+09  \n",
       "18  9.900000e+08  \n",
       "19  2.100000e+09  \n",
       "20  6.800000e+08  \n",
       "21  3.900000e+08  \n",
       "22  2.800000e+08  \n",
       "23  1.500000e+08  "
      ]
     },
     "execution_count": 17,
     "metadata": {},
     "output_type": "execute_result"
    }
   ],
   "source": [
    "summaries_df"
   ]
  },
  {
   "cell_type": "code",
   "execution_count": 8,
   "id": "24e6dfbc",
   "metadata": {},
   "outputs": [],
   "source": [
    "import json\n",
    "symbols_list_file_name = \"binance_BTC_from_2019_05_01_to_2022_04_30.json\"\n",
    "with open(symbols_list_file_name, \"r\") as f:\n",
    "    symbols_list = json.load(f)"
   ]
  },
  {
   "cell_type": "code",
   "execution_count": 9,
   "id": "f0476cb0",
   "metadata": {},
   "outputs": [],
   "source": [
    "import os\n",
    "import pandas as pd\n",
    "import numpy as np\n",
    "import pprint as pp\n",
    "import datetime as dt\n",
    "import pathlib\n",
    "import re\n",
    "import json\n",
    "import math\n",
    "exchange = \"binance\"\n",
    "data_folder_name = \"full_datasets_by_asset_\" + exchange\n",
    "extension = \".gz\"\n",
    "regex_match_to_strip = \"\\.csv.gz$\"\n",
    "returns_folder_name = \"full_returns\""
   ]
  },
  {
   "cell_type": "code",
   "execution_count": null,
   "id": "59b944a4",
   "metadata": {},
   "outputs": [],
   "source": [
    "small_letters_tickers_invert_map = {\n",
    "    'btcusdc': ''\n",
    "}"
   ]
  },
  {
   "cell_type": "code",
   "execution_count": 48,
   "id": "4c148e6d",
   "metadata": {},
   "outputs": [],
   "source": [
    "pattern = \"(.*?)_(.*)\" # date_ticker regex pattern\n",
    "date_ticker_regex = re.compile(pattern)\n",
    "# the above is precompiled\n",
    "\n",
    "file_name = '2022-04-30_BTCTUSD.csv.gz'\n",
    "data_name = re.sub(regex_match_to_strip, '', file_name)\n",
    "date_ticker_regex_result = date_ticker_regex.match(data_name)\n",
    "file_name_date = date_ticker_regex_result.group(1)\n",
    "file_name_ticker = date_ticker_regex_result.group(2)\n",
    "\n",
    "# give up on renaming"
   ]
  },
  {
   "cell_type": "code",
   "execution_count": 73,
   "id": "fa87090a",
   "metadata": {},
   "outputs": [
    {
     "data": {
      "text/plain": [
       "{'btcusdc': 'usdcbtc', 'btcusdt': 'usdtbtc', 'btctusd': 'tusdbtc'}"
      ]
     },
     "execution_count": 73,
     "metadata": {},
     "output_type": "execute_result"
    }
   ],
   "source": [
    "small_invert_from = [\"btcusdc\", \"btcusdt\", \"btctusd\"]\n",
    "small_invert_to = [\"usdcbtc\", \"usdtbtc\", \"tusdbtc\"]\n",
    "small_map = dict(zip(small_invert_from, small_invert_to))\n",
    "small_map"
   ]
  },
  {
   "cell_type": "code",
   "execution_count": 77,
   "id": "4f06312e",
   "metadata": {},
   "outputs": [
    {
     "data": {
      "text/plain": [
       "{'BTCUSDC': 'USDCBTC', 'BTCUSDT': 'USDTBTC', 'BTCTUSD': 'TUSDBTC'}"
      ]
     },
     "execution_count": 77,
     "metadata": {},
     "output_type": "execute_result"
    }
   ],
   "source": [
    "large_invert_from = list(map(str.upper, small_invert_from))\n",
    "large_invert_to = list(map(str.upper, small_invert_to))\n",
    "large_map = dict(zip(large_invert_from, large_invert_to))\n",
    "large_map"
   ]
  },
  {
   "cell_type": "code",
   "execution_count": 78,
   "id": "d930feb2",
   "metadata": {},
   "outputs": [
    {
     "name": "stdout",
     "output_type": "stream",
     "text": [
      "TUSDBTC\n"
     ]
    }
   ],
   "source": [
    "if file_name_ticker in large_map:\n",
    "    print(large_map[file_name_ticker])"
   ]
  },
  {
   "cell_type": "code",
   "execution_count": 51,
   "id": "ee1a58d4",
   "metadata": {},
   "outputs": [
    {
     "data": {
      "text/plain": [
       "'C:\\\\Users\\\\wang-\\\\OneDrive\\\\Term 2\\\\Dissertation\\\\experiments\\\\scratches\\\\full_datasets_by_asset_binance\\\\btctusd\\\\binance\\\\trades\\\\2022-04-30_BTCTUSD.csv.gz'"
      ]
     },
     "execution_count": 51,
     "metadata": {},
     "output_type": "execute_result"
    }
   ],
   "source": [
    "file_path"
   ]
  },
  {
   "cell_type": "code",
   "execution_count": 52,
   "id": "bf59bf50",
   "metadata": {},
   "outputs": [
    {
     "data": {
      "text/plain": [
       "WindowsPath('C:/Users/wang-/OneDrive/Term 2/Dissertation/experiments/scratches/full_datasets_by_asset_binance/btctusd/binance/trades/2022-04-30_BTCTUSD.csv.gz')"
      ]
     },
     "execution_count": 52,
     "metadata": {},
     "output_type": "execute_result"
    }
   ],
   "source": [
    "pathlib.Path(file_path)"
   ]
  },
  {
   "cell_type": "code",
   "execution_count": 66,
   "id": "2c7d780b",
   "metadata": {},
   "outputs": [],
   "source": [
    "data_folder_name = \"full_datasets_by_asset_\" + exchange\n",
    "path = pathlib.Path(file_path)\n",
    "index = path.parts.index(data_folder_name)"
   ]
  },
  {
   "cell_type": "code",
   "execution_count": 86,
   "id": "5916a762",
   "metadata": {},
   "outputs": [],
   "source": [
    "if file_name_ticker in large_map:\n",
    "    small_ticker = small_map[str.lower(file_name_ticker)]\n",
    "    large_ticker = large_map[file_name_ticker]\n",
    "else:\n",
    "    small_ticker = str.lower(file_name_ticker)\n",
    "    large_ticker = large_map[file_name_ticker]"
   ]
  },
  {
   "cell_type": "code",
   "execution_count": 88,
   "id": "70d35f2c",
   "metadata": {},
   "outputs": [
    {
     "data": {
      "text/plain": [
       "'TUSDBTC'"
      ]
     },
     "execution_count": 88,
     "metadata": {},
     "output_type": "execute_result"
    }
   ],
   "source": [
    "large_ticker"
   ]
  },
  {
   "cell_type": "code",
   "execution_count": 91,
   "id": "6cde0bfe",
   "metadata": {},
   "outputs": [],
   "source": [
    "file_path_end = file_name_date + '_' + large_ticker + '.csv.gz'"
   ]
  },
  {
   "cell_type": "code",
   "execution_count": null,
   "id": "1be442f6",
   "metadata": {},
   "outputs": [],
   "source": []
  },
  {
   "cell_type": "code",
   "execution_count": 94,
   "id": "52521510",
   "metadata": {},
   "outputs": [
    {
     "data": {
      "text/plain": [
       "False"
      ]
     },
     "execution_count": 94,
     "metadata": {},
     "output_type": "execute_result"
    }
   ],
   "source": [
    "'asdf' in large_map"
   ]
  },
  {
   "cell_type": "code",
   "execution_count": null,
   "id": "ecaa3bea",
   "metadata": {},
   "outputs": [],
   "source": []
  },
  {
   "cell_type": "code",
   "execution_count": 79,
   "id": "6333a8e4",
   "metadata": {},
   "outputs": [
    {
     "data": {
      "text/plain": [
       "('binance', 'trades')"
      ]
     },
     "execution_count": 79,
     "metadata": {},
     "output_type": "execute_result"
    }
   ],
   "source": [
    "path.parts[index + 2: -1]"
   ]
  },
  {
   "cell_type": "code",
   "execution_count": null,
   "id": "9aecc4d5",
   "metadata": {},
   "outputs": [],
   "source": []
  },
  {
   "cell_type": "code",
   "execution_count": 68,
   "id": "b09442e5",
   "metadata": {},
   "outputs": [],
   "source": [
    "path_end_wanted = path.parts[index + 1:]"
   ]
  },
  {
   "cell_type": "code",
   "execution_count": 60,
   "id": "d1d9a50c",
   "metadata": {},
   "outputs": [],
   "source": [
    "result_folder_name = \"full_datasets_against_btc_\" + exchange"
   ]
  },
  {
   "cell_type": "code",
   "execution_count": 92,
   "id": "fd1024ea",
   "metadata": {},
   "outputs": [],
   "source": [
    "save_path = pathlib.Path.cwd().joinpath(result_folder_name).joinpath(small_ticker).joinpath(*path.parts[index + 2: -1]).joinpath(file_path_end)"
   ]
  },
  {
   "cell_type": "code",
   "execution_count": 93,
   "id": "ed1a6b56",
   "metadata": {},
   "outputs": [
    {
     "data": {
      "text/plain": [
       "WindowsPath('C:/Users/wang-/OneDrive/Term 2/Dissertation/experiments/scratches/full_datasets_against_btc_binance/tusdbtc/binance/trades/2022-04-30_TUSDBTC.csv.gz')"
      ]
     },
     "execution_count": 93,
     "metadata": {},
     "output_type": "execute_result"
    }
   ],
   "source": [
    "save_path"
   ]
  },
  {
   "cell_type": "code",
   "execution_count": null,
   "id": "2d38fe03",
   "metadata": {},
   "outputs": [],
   "source": []
  },
  {
   "cell_type": "code",
   "execution_count": null,
   "id": "cbaa720d",
   "metadata": {},
   "outputs": [],
   "source": []
  },
  {
   "cell_type": "code",
   "execution_count": 49,
   "id": "6b46a938",
   "metadata": {},
   "outputs": [
    {
     "data": {
      "text/plain": [
       "'BTCTUSD'"
      ]
     },
     "execution_count": 49,
     "metadata": {},
     "output_type": "execute_result"
    }
   ],
   "source": [
    "file_name_ticker"
   ]
  },
  {
   "cell_type": "code",
   "execution_count": 11,
   "id": "e135bc58",
   "metadata": {},
   "outputs": [],
   "source": [
    "symbol = 'BNB'\n",
    "dir_name = os.path.join(os.getcwd(), data_folder_name, symbol)"
   ]
  },
  {
   "cell_type": "code",
   "execution_count": 24,
   "id": "f04641a3",
   "metadata": {},
   "outputs": [],
   "source": [
    "file_path = os.path.join(os.getcwd(), data_folder_name, 'btctusd', 'binance', 'trades', '2022-04-30_BTCTUSD.csv.gz')"
   ]
  },
  {
   "cell_type": "code",
   "execution_count": 25,
   "id": "3af7dc6d",
   "metadata": {},
   "outputs": [],
   "source": [
    "df = pd.read_csv(file_path, compression='gzip')"
   ]
  },
  {
   "cell_type": "code",
   "execution_count": 26,
   "id": "82bae833",
   "metadata": {},
   "outputs": [],
   "source": [
    "df.drop(columns=['timestamp'], inplace=True)\n",
    "df.rename(columns={'local_timestamp': 'timestamp'}, inplace=True)"
   ]
  },
  {
   "cell_type": "code",
   "execution_count": 27,
   "id": "0fd9d549",
   "metadata": {},
   "outputs": [
    {
     "data": {
      "text/html": [
       "<div>\n",
       "<style scoped>\n",
       "    .dataframe tbody tr th:only-of-type {\n",
       "        vertical-align: middle;\n",
       "    }\n",
       "\n",
       "    .dataframe tbody tr th {\n",
       "        vertical-align: top;\n",
       "    }\n",
       "\n",
       "    .dataframe thead th {\n",
       "        text-align: right;\n",
       "    }\n",
       "</style>\n",
       "<table border=\"1\" class=\"dataframe\">\n",
       "  <thead>\n",
       "    <tr style=\"text-align: right;\">\n",
       "      <th></th>\n",
       "      <th>exchange</th>\n",
       "      <th>symbol</th>\n",
       "      <th>timestamp</th>\n",
       "      <th>id</th>\n",
       "      <th>side</th>\n",
       "      <th>price</th>\n",
       "      <th>amount</th>\n",
       "    </tr>\n",
       "  </thead>\n",
       "  <tbody>\n",
       "    <tr>\n",
       "      <th>0</th>\n",
       "      <td>binance</td>\n",
       "      <td>BTCTUSD</td>\n",
       "      <td>1651277066927893</td>\n",
       "      <td>9451685</td>\n",
       "      <td>sell</td>\n",
       "      <td>38605.50</td>\n",
       "      <td>0.00027</td>\n",
       "    </tr>\n",
       "    <tr>\n",
       "      <th>1</th>\n",
       "      <td>binance</td>\n",
       "      <td>BTCTUSD</td>\n",
       "      <td>1651277659481258</td>\n",
       "      <td>9451686</td>\n",
       "      <td>sell</td>\n",
       "      <td>38598.34</td>\n",
       "      <td>0.00042</td>\n",
       "    </tr>\n",
       "    <tr>\n",
       "      <th>2</th>\n",
       "      <td>binance</td>\n",
       "      <td>BTCTUSD</td>\n",
       "      <td>1651277811771343</td>\n",
       "      <td>9451687</td>\n",
       "      <td>buy</td>\n",
       "      <td>38620.56</td>\n",
       "      <td>0.00356</td>\n",
       "    </tr>\n",
       "    <tr>\n",
       "      <th>3</th>\n",
       "      <td>binance</td>\n",
       "      <td>BTCTUSD</td>\n",
       "      <td>1651277811972195</td>\n",
       "      <td>9451688</td>\n",
       "      <td>buy</td>\n",
       "      <td>38620.60</td>\n",
       "      <td>0.00089</td>\n",
       "    </tr>\n",
       "    <tr>\n",
       "      <th>4</th>\n",
       "      <td>binance</td>\n",
       "      <td>BTCTUSD</td>\n",
       "      <td>1651277820357953</td>\n",
       "      <td>9451689</td>\n",
       "      <td>buy</td>\n",
       "      <td>38622.40</td>\n",
       "      <td>0.00299</td>\n",
       "    </tr>\n",
       "    <tr>\n",
       "      <th>...</th>\n",
       "      <td>...</td>\n",
       "      <td>...</td>\n",
       "      <td>...</td>\n",
       "      <td>...</td>\n",
       "      <td>...</td>\n",
       "      <td>...</td>\n",
       "      <td>...</td>\n",
       "    </tr>\n",
       "    <tr>\n",
       "      <th>314</th>\n",
       "      <td>binance</td>\n",
       "      <td>BTCTUSD</td>\n",
       "      <td>1651362597701134</td>\n",
       "      <td>9451999</td>\n",
       "      <td>sell</td>\n",
       "      <td>37633.21</td>\n",
       "      <td>0.00293</td>\n",
       "    </tr>\n",
       "    <tr>\n",
       "      <th>315</th>\n",
       "      <td>binance</td>\n",
       "      <td>BTCTUSD</td>\n",
       "      <td>1651362652071792</td>\n",
       "      <td>9452000</td>\n",
       "      <td>buy</td>\n",
       "      <td>37685.18</td>\n",
       "      <td>0.00146</td>\n",
       "    </tr>\n",
       "    <tr>\n",
       "      <th>316</th>\n",
       "      <td>binance</td>\n",
       "      <td>BTCTUSD</td>\n",
       "      <td>1651362652126123</td>\n",
       "      <td>9452001</td>\n",
       "      <td>buy</td>\n",
       "      <td>37685.18</td>\n",
       "      <td>0.00119</td>\n",
       "    </tr>\n",
       "    <tr>\n",
       "      <th>317</th>\n",
       "      <td>binance</td>\n",
       "      <td>BTCTUSD</td>\n",
       "      <td>1651362714546312</td>\n",
       "      <td>9452002</td>\n",
       "      <td>buy</td>\n",
       "      <td>37782.69</td>\n",
       "      <td>0.00191</td>\n",
       "    </tr>\n",
       "    <tr>\n",
       "      <th>318</th>\n",
       "      <td>binance</td>\n",
       "      <td>BTCTUSD</td>\n",
       "      <td>1651362812163441</td>\n",
       "      <td>9452003</td>\n",
       "      <td>buy</td>\n",
       "      <td>37718.96</td>\n",
       "      <td>0.05206</td>\n",
       "    </tr>\n",
       "  </tbody>\n",
       "</table>\n",
       "<p>319 rows × 7 columns</p>\n",
       "</div>"
      ],
      "text/plain": [
       "    exchange   symbol         timestamp       id  side     price   amount\n",
       "0    binance  BTCTUSD  1651277066927893  9451685  sell  38605.50  0.00027\n",
       "1    binance  BTCTUSD  1651277659481258  9451686  sell  38598.34  0.00042\n",
       "2    binance  BTCTUSD  1651277811771343  9451687   buy  38620.56  0.00356\n",
       "3    binance  BTCTUSD  1651277811972195  9451688   buy  38620.60  0.00089\n",
       "4    binance  BTCTUSD  1651277820357953  9451689   buy  38622.40  0.00299\n",
       "..       ...      ...               ...      ...   ...       ...      ...\n",
       "314  binance  BTCTUSD  1651362597701134  9451999  sell  37633.21  0.00293\n",
       "315  binance  BTCTUSD  1651362652071792  9452000   buy  37685.18  0.00146\n",
       "316  binance  BTCTUSD  1651362652126123  9452001   buy  37685.18  0.00119\n",
       "317  binance  BTCTUSD  1651362714546312  9452002   buy  37782.69  0.00191\n",
       "318  binance  BTCTUSD  1651362812163441  9452003   buy  37718.96  0.05206\n",
       "\n",
       "[319 rows x 7 columns]"
      ]
     },
     "execution_count": 27,
     "metadata": {},
     "output_type": "execute_result"
    }
   ],
   "source": [
    "df[]"
   ]
  },
  {
   "cell_type": "code",
   "execution_count": 31,
   "id": "bc99e573",
   "metadata": {},
   "outputs": [],
   "source": [
    "df['amount'] = df['amount'] * df['price']"
   ]
  },
  {
   "cell_type": "code",
   "execution_count": 34,
   "id": "6c504480",
   "metadata": {},
   "outputs": [],
   "source": [
    "df['price'] = 1 / df['price']"
   ]
  },
  {
   "cell_type": "code",
   "execution_count": 35,
   "id": "029d91b2",
   "metadata": {},
   "outputs": [],
   "source": [
    "df['side'] = df['side'].map({'sell': 'buy', 'buy': 'sell'})"
   ]
  },
  {
   "cell_type": "code",
   "execution_count": 40,
   "id": "69e374e2",
   "metadata": {},
   "outputs": [
    {
     "data": {
      "text/plain": [
       "'C:\\\\Users\\\\wang-\\\\OneDrive\\\\Term 2\\\\Dissertation\\\\experiments\\\\scratches'"
      ]
     },
     "execution_count": 40,
     "metadata": {},
     "output_type": "execute_result"
    }
   ],
   "source": [
    "os.getcwd()"
   ]
  },
  {
   "cell_type": "code",
   "execution_count": 102,
   "id": "cf55daa5",
   "metadata": {},
   "outputs": [
    {
     "data": {
      "text/plain": [
       "WindowsPath('C:/Users/wang-/OneDrive/Term 2/Dissertation/experiments/scratches/full_datasets_against_btc_binance/tusdbtc/binance/trades/2022-04-30_TUSDBTC.csv.gz')"
      ]
     },
     "execution_count": 102,
     "metadata": {},
     "output_type": "execute_result"
    }
   ],
   "source": [
    "save_path"
   ]
  },
  {
   "cell_type": "code",
   "execution_count": 106,
   "id": "c179a9a1",
   "metadata": {},
   "outputs": [
    {
     "data": {
      "text/plain": [
       "PureWindowsPath('C:/Users/wang-/OneDrive/Term 2/Dissertation/experiments/scratches/full_datasets_against_btc_binance/tusdbtc/binance/trades')"
      ]
     },
     "execution_count": 106,
     "metadata": {},
     "output_type": "execute_result"
    }
   ],
   "source": [
    "pathlib.PurePath(save_path).parent"
   ]
  },
  {
   "cell_type": "code",
   "execution_count": 39,
   "id": "db353924",
   "metadata": {},
   "outputs": [
    {
     "data": {
      "text/html": [
       "<div>\n",
       "<style scoped>\n",
       "    .dataframe tbody tr th:only-of-type {\n",
       "        vertical-align: middle;\n",
       "    }\n",
       "\n",
       "    .dataframe tbody tr th {\n",
       "        vertical-align: top;\n",
       "    }\n",
       "\n",
       "    .dataframe thead th {\n",
       "        text-align: right;\n",
       "    }\n",
       "</style>\n",
       "<table border=\"1\" class=\"dataframe\">\n",
       "  <thead>\n",
       "    <tr style=\"text-align: right;\">\n",
       "      <th></th>\n",
       "      <th>exchange</th>\n",
       "      <th>symbol</th>\n",
       "      <th>timestamp</th>\n",
       "      <th>id</th>\n",
       "      <th>side</th>\n",
       "      <th>price</th>\n",
       "      <th>amount</th>\n",
       "    </tr>\n",
       "  </thead>\n",
       "  <tbody>\n",
       "    <tr>\n",
       "      <th>0</th>\n",
       "      <td>binance</td>\n",
       "      <td>BTCTUSD</td>\n",
       "      <td>1651277066927893</td>\n",
       "      <td>9451685</td>\n",
       "      <td>buy</td>\n",
       "      <td>0.00002590</td>\n",
       "      <td>10.4234850</td>\n",
       "    </tr>\n",
       "    <tr>\n",
       "      <th>1</th>\n",
       "      <td>binance</td>\n",
       "      <td>BTCTUSD</td>\n",
       "      <td>1651277659481258</td>\n",
       "      <td>9451686</td>\n",
       "      <td>buy</td>\n",
       "      <td>0.00002591</td>\n",
       "      <td>16.2113028</td>\n",
       "    </tr>\n",
       "    <tr>\n",
       "      <th>2</th>\n",
       "      <td>binance</td>\n",
       "      <td>BTCTUSD</td>\n",
       "      <td>1651277811771343</td>\n",
       "      <td>9451687</td>\n",
       "      <td>sell</td>\n",
       "      <td>0.00002589</td>\n",
       "      <td>137.4891936</td>\n",
       "    </tr>\n",
       "    <tr>\n",
       "      <th>3</th>\n",
       "      <td>binance</td>\n",
       "      <td>BTCTUSD</td>\n",
       "      <td>1651277811972195</td>\n",
       "      <td>9451688</td>\n",
       "      <td>sell</td>\n",
       "      <td>0.00002589</td>\n",
       "      <td>34.3723340</td>\n",
       "    </tr>\n",
       "    <tr>\n",
       "      <th>4</th>\n",
       "      <td>binance</td>\n",
       "      <td>BTCTUSD</td>\n",
       "      <td>1651277820357953</td>\n",
       "      <td>9451689</td>\n",
       "      <td>sell</td>\n",
       "      <td>0.00002589</td>\n",
       "      <td>115.4809760</td>\n",
       "    </tr>\n",
       "    <tr>\n",
       "      <th>...</th>\n",
       "      <td>...</td>\n",
       "      <td>...</td>\n",
       "      <td>...</td>\n",
       "      <td>...</td>\n",
       "      <td>...</td>\n",
       "      <td>...</td>\n",
       "      <td>...</td>\n",
       "    </tr>\n",
       "    <tr>\n",
       "      <th>314</th>\n",
       "      <td>binance</td>\n",
       "      <td>BTCTUSD</td>\n",
       "      <td>1651362597701134</td>\n",
       "      <td>9451999</td>\n",
       "      <td>buy</td>\n",
       "      <td>0.00002657</td>\n",
       "      <td>110.2653053</td>\n",
       "    </tr>\n",
       "    <tr>\n",
       "      <th>315</th>\n",
       "      <td>binance</td>\n",
       "      <td>BTCTUSD</td>\n",
       "      <td>1651362652071792</td>\n",
       "      <td>9452000</td>\n",
       "      <td>sell</td>\n",
       "      <td>0.00002654</td>\n",
       "      <td>55.0203628</td>\n",
       "    </tr>\n",
       "    <tr>\n",
       "      <th>316</th>\n",
       "      <td>binance</td>\n",
       "      <td>BTCTUSD</td>\n",
       "      <td>1651362652126123</td>\n",
       "      <td>9452001</td>\n",
       "      <td>sell</td>\n",
       "      <td>0.00002654</td>\n",
       "      <td>44.8453642</td>\n",
       "    </tr>\n",
       "    <tr>\n",
       "      <th>317</th>\n",
       "      <td>binance</td>\n",
       "      <td>BTCTUSD</td>\n",
       "      <td>1651362714546312</td>\n",
       "      <td>9452002</td>\n",
       "      <td>sell</td>\n",
       "      <td>0.00002647</td>\n",
       "      <td>72.1649379</td>\n",
       "    </tr>\n",
       "    <tr>\n",
       "      <th>318</th>\n",
       "      <td>binance</td>\n",
       "      <td>BTCTUSD</td>\n",
       "      <td>1651362812163441</td>\n",
       "      <td>9452003</td>\n",
       "      <td>sell</td>\n",
       "      <td>0.00002651</td>\n",
       "      <td>1963.6490576</td>\n",
       "    </tr>\n",
       "  </tbody>\n",
       "</table>\n",
       "<p>319 rows × 7 columns</p>\n",
       "</div>"
      ],
      "text/plain": [
       "    exchange   symbol         timestamp       id  side       price  \\\n",
       "0    binance  BTCTUSD  1651277066927893  9451685   buy  0.00002590   \n",
       "1    binance  BTCTUSD  1651277659481258  9451686   buy  0.00002591   \n",
       "2    binance  BTCTUSD  1651277811771343  9451687  sell  0.00002589   \n",
       "3    binance  BTCTUSD  1651277811972195  9451688  sell  0.00002589   \n",
       "4    binance  BTCTUSD  1651277820357953  9451689  sell  0.00002589   \n",
       "..       ...      ...               ...      ...   ...         ...   \n",
       "314  binance  BTCTUSD  1651362597701134  9451999   buy  0.00002657   \n",
       "315  binance  BTCTUSD  1651362652071792  9452000  sell  0.00002654   \n",
       "316  binance  BTCTUSD  1651362652126123  9452001  sell  0.00002654   \n",
       "317  binance  BTCTUSD  1651362714546312  9452002  sell  0.00002647   \n",
       "318  binance  BTCTUSD  1651362812163441  9452003  sell  0.00002651   \n",
       "\n",
       "           amount  \n",
       "0      10.4234850  \n",
       "1      16.2113028  \n",
       "2     137.4891936  \n",
       "3      34.3723340  \n",
       "4     115.4809760  \n",
       "..            ...  \n",
       "314   110.2653053  \n",
       "315    55.0203628  \n",
       "316    44.8453642  \n",
       "317    72.1649379  \n",
       "318  1963.6490576  \n",
       "\n",
       "[319 rows x 7 columns]"
      ]
     },
     "execution_count": 39,
     "metadata": {},
     "output_type": "execute_result"
    }
   ],
   "source": [
    "pd.set_option(\"display.precision\", 8)\n",
    "df"
   ]
  },
  {
   "cell_type": "code",
   "execution_count": null,
   "id": "3311bee3",
   "metadata": {},
   "outputs": [],
   "source": [
    "dir_name = os.path.join(os.getcwd(), data_folder_name, symbol)\n",
    "for "
   ]
  },
  {
   "cell_type": "code",
   "execution_count": 97,
   "id": "e150372e",
   "metadata": {},
   "outputs": [
    {
     "data": {
      "text/plain": [
       "0      TUSDBTC\n",
       "1      TUSDBTC\n",
       "2      TUSDBTC\n",
       "3      TUSDBTC\n",
       "4      TUSDBTC\n",
       "        ...   \n",
       "314    TUSDBTC\n",
       "315    TUSDBTC\n",
       "316    TUSDBTC\n",
       "317    TUSDBTC\n",
       "318    TUSDBTC\n",
       "Name: symbol, Length: 319, dtype: object"
      ]
     },
     "execution_count": 97,
     "metadata": {},
     "output_type": "execute_result"
    }
   ],
   "source": [
    "df['symbol'].map({file_name_ticker: large_ticker})"
   ]
  },
  {
   "cell_type": "code",
   "execution_count": null,
   "id": "a858c4f8",
   "metadata": {},
   "outputs": [],
   "source": []
  }
 ],
 "metadata": {
  "kernelspec": {
   "display_name": "Python 3 (ipykernel)",
   "language": "python",
   "name": "python3"
  },
  "language_info": {
   "codemirror_mode": {
    "name": "ipython",
    "version": 3
   },
   "file_extension": ".py",
   "mimetype": "text/x-python",
   "name": "python",
   "nbconvert_exporter": "python",
   "pygments_lexer": "ipython3",
   "version": "3.7.9"
  }
 },
 "nbformat": 4,
 "nbformat_minor": 5
}

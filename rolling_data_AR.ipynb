{
 "cells": [
  {
   "cell_type": "code",
   "execution_count": 38,
   "id": "57161325",
   "metadata": {},
   "outputs": [],
   "source": [
    "import os\n",
    "import pandas as pd\n",
    "import numpy as np\n",
    "import datetime as dt\n",
    "import pathlib\n",
    "import re\n",
    "import json\n",
    "import math\n",
    "import seaborn as sns\n",
    "import matplotlib.pyplot as plt\n",
    "import scipy as sp\n",
    "from statsmodels.tsa.ar_model import AutoReg, ar_select_order\n",
    "import statsmodels.api as sm\n",
    "from functools import partial"
   ]
  },
  {
   "cell_type": "code",
   "execution_count": 3,
   "id": "65d216b7-d358-4c03-8220-3b9a4b1acc16",
   "metadata": {},
   "outputs": [],
   "source": [
    "%load_ext autoreload\n",
    "%autoreload 1\n",
    "from utils.hourly_volas_and_dt import hourly_volas_and_dt\n",
    "%aimport utils.hourly_volas_and_dt"
   ]
  },
  {
   "cell_type": "code",
   "execution_count": 4,
   "id": "56406799-57b4-426d-95f5-a9b54726a724",
   "metadata": {},
   "outputs": [],
   "source": [
    "from utils.rolling import rolling\n",
    "%aimport utils.rolling"
   ]
  },
  {
   "cell_type": "code",
   "execution_count": 5,
   "id": "5367cace-1633-4456-86bf-6aca4e90f1c3",
   "metadata": {},
   "outputs": [],
   "source": [
    "from utils.train_test_split import train_test_split\n",
    "%aimport utils.train_test_split"
   ]
  },
  {
   "cell_type": "code",
   "execution_count": 6,
   "id": "34b7b5be-6aa9-4092-b868-a5f08c1ac2a2",
   "metadata": {},
   "outputs": [],
   "source": [
    "from utils.loss_functions import mean_squared, quasi_likelihood\n",
    "%aimport utils.loss_functions"
   ]
  },
  {
   "cell_type": "code",
   "execution_count": 7,
   "id": "e3edffda-421d-4f91-9c72-5e4af1e3535a",
   "metadata": {},
   "outputs": [],
   "source": [
    "from utils.r_squared_daily import r_squared_daily\n",
    "%aimport utils.r_squared_daily"
   ]
  },
  {
   "cell_type": "code",
   "execution_count": 8,
   "id": "62549b22-e9b8-4ebe-aee3-9a6f4c9f21c4",
   "metadata": {},
   "outputs": [],
   "source": [
    "from utils.mean_squared_daily import mean_squared_daily\n",
    "%aimport utils.mean_squared_daily"
   ]
  },
  {
   "cell_type": "code",
   "execution_count": 9,
   "id": "597d503b-b44a-4044-9c35-1f5a1eed4c3d",
   "metadata": {},
   "outputs": [],
   "source": [
    "from utils.q_likelihood_daily import q_likelihood_daily\n",
    "%aimport utils.q_likelihood_daily"
   ]
  },
  {
   "cell_type": "code",
   "execution_count": 10,
   "id": "8da8ba3f-a5fe-4d51-9ae4-c17bb63b7a4a",
   "metadata": {},
   "outputs": [],
   "source": [
    "def lagged_df(df, lag_days_list, blocks, symbol):\n",
    "    df_lags_dict = {}\n",
    "    for lag_day in range(1, max(lag_days_list) + 1):\n",
    "        df_new = df.shift(lag_day * blocks)\n",
    "        df_lags_dict[lag_day] = df_new.rename(columns = {symbol : lag_day})\n",
    "\n",
    "    list_of_dfs = [df]\n",
    "    list_of_dfs.extend(list(df_lags_dict.values()))\n",
    "    return pd.concat(list_of_dfs, axis=1)"
   ]
  },
  {
   "cell_type": "code",
   "execution_count": 11,
   "id": "38004d16-8928-4d69-9ec7-d14358a36928",
   "metadata": {},
   "outputs": [],
   "source": [
    "def prepare_model_df(df, lag_days, symbol):\n",
    "    columns_to_use = [symbol]\n",
    "    lags_to_use = [i for i in range(1, lag_days + 1)]\n",
    "    columns_to_use.extend(lags_to_use)\n",
    "\n",
    "    # set_trace()\n",
    "    df_model = df[columns_to_use]\n",
    "    df_model.dropna(inplace=True)\n",
    "    X = df_model[lags_to_use]\n",
    "    X = sm.add_constant(X)\n",
    "    y = df_model[symbol]\n",
    "    return y, X"
   ]
  },
  {
   "cell_type": "code",
   "execution_count": 12,
   "id": "4c5c7d9e-2d88-4836-87c9-c0aaa70bab01",
   "metadata": {},
   "outputs": [],
   "source": [
    "def in_sample_AR_with_selection(input_folder_name, lag_days_list, symbol, data_type):\n",
    "    volas = hourly_volas_and_dt(symbol, input_folder_name)\n",
    "    \n",
    "    if data_type == 'rolling':\n",
    "        df = rolling(volas)\n",
    "    if data_type == 'calen':\n",
    "        df = volas.groupby(pd.Grouper(freq=\"D\")).sum()\n",
    "\n",
    "    df = lagged_df(df, lag_days_list)\n",
    "    \n",
    "    AR_results = dict()\n",
    "    AICs = dict()\n",
    "    for lag_days in lag_days_list:\n",
    "        y, X = prepare_model_df(df, lag_days, symbol)\n",
    "        res = sm.OLS(y, X).fit()\n",
    "        AR_results[lag_days] = res\n",
    "        AICs[lag_days] = res.aic\n",
    "    return AR_results, AICs"
   ]
  },
  {
   "cell_type": "code",
   "execution_count": 125,
   "id": "035c9e11-ca5b-455c-ae26-01a53fd17131",
   "metadata": {},
   "outputs": [],
   "source": [
    "def in_sample_AR(input_folder_name, lag_days, symbol, data_type):\n",
    "    set_trace()\n",
    "    volas = hourly_volas_and_dt(symbol, input_folder_name)\n",
    "    \n",
    "    if data_type == 'Rolling':\n",
    "        df = rolling(volas)\n",
    "        blocks = 24\n",
    "    if data_type == 'Calendar':\n",
    "        df = volas.groupby(pd.Grouper(freq=\"D\")).sum()\n",
    "        blocks = 1\n",
    "    \n",
    "    lag_days_list = [i for i in range(1, lag_days + 1)]\n",
    "    df = lagged_df(df, lag_days_list, blocks, symbol)\n",
    "    \n",
    "    y, X = prepare_model_df(df, lag_days, symbol)\n",
    "    res = sm.OLS(y, X).fit()\n",
    "    return res, y, X"
   ]
  },
  {
   "cell_type": "code",
   "execution_count": 14,
   "id": "04b908ba-179f-469a-a9ac-4a6203611322",
   "metadata": {},
   "outputs": [],
   "source": [
    "def in_sample_HAR(input_folder_name, symbol, data_type):\n",
    "    volas = hourly_volas_and_dt(symbol, input_folder_name)\n",
    "    if data_type == 'Calendar':\n",
    "        df = volas.groupby(pd.Grouper(freq=\"D\")).sum()\n",
    "        df.rename(columns={symbol : 'd'}, inplace=True)\n",
    "        df['w'] = df['d'].rolling(7).sum() / 7\n",
    "        df['m'] = df['d'].rolling(30).sum() / 30\n",
    "        df['d_next'] = df['d'].shift(-1)\n",
    "        df.dropna(inplace=True)\n",
    "        X = df[['d', 'w', 'm']]\n",
    "        X = sm.add_constant(X)\n",
    "        y = df['d_next']\n",
    "        res = sm.OLS(y, X).fit()\n",
    "    if data_type == 'Rolling':\n",
    "        df = volas.rolling(24).sum()\n",
    "        df.rename(columns={symbol : 'd'}, inplace=True)\n",
    "        df['w'] = (volas.rolling(7 * 24).sum() / 7)\n",
    "        df['m'] = (volas.rolling(30 * 24).sum() / 30)\n",
    "        df = df.shift(periods=1, freq=\"h\") # using end-representation\n",
    "        df['d_next'] = df['d'].shift(-24)\n",
    "        df.dropna(inplace=True)\n",
    "        X = df[['d', 'w', 'm']]\n",
    "        X = sm.add_constant(X)\n",
    "        y = df['d_next']\n",
    "        res = sm.OLS(y, X).fit()\n",
    "    return res, y, X"
   ]
  },
  {
   "cell_type": "code",
   "execution_count": 15,
   "id": "3a28be12-b8a3-44fc-bd3f-58489f969cf0",
   "metadata": {},
   "outputs": [],
   "source": [
    "def in_sample_HAR_plus_I(input_folder_name, symbol, data_type):\n",
    "    volas = hourly_volas_and_dt(symbol, input_folder_name)\n",
    "    if data_type == 'Calendar':\n",
    "        df = volas.groupby(pd.Grouper(freq=\"D\")).sum()\n",
    "        df.rename(columns={symbol : 'd'}, inplace=True)\n",
    "        df['w'] = df['d'].rolling(7).sum()\n",
    "        df['m'] = df['d'].rolling(30).sum()\n",
    "        df['d_next'] = df['d'].shift(-1)\n",
    "        df['6h'] = volas.rolling(6).sum().shift(-5)\n",
    "        df['12h'] = volas.rolling(12).sum().shift(-11)\n",
    "        df['18h'] = volas.rolling(18).sum().shift(-17)\n",
    "        df.dropna(inplace=True)\n",
    "        X = df[['d', 'w', 'm', '6h', '12h', '18h']]\n",
    "        X = sm.add_constant(X)\n",
    "        y = df['d_next']\n",
    "        res = sm.OLS(y, X).fit()\n",
    "    if data_type == 'Rolling':\n",
    "        df = volas.rolling(24).sum()\n",
    "        df.rename(columns={symbol : 'd'}, inplace=True)\n",
    "        df['w'] = volas.rolling(7 * 24).sum() / 7\n",
    "        df['m'] = volas.rolling(30 * 24).sum() / 30\n",
    "        df['6h'] = volas.rolling(6).sum() / 6 * 24\n",
    "        df['12h'] = volas.rolling(12).sum() / 12 * 24\n",
    "        df['18h'] = volas.rolling(18).sum() / 18 * 24\n",
    "        df = df.shift(periods=1, freq=\"h\") # using end-representation\n",
    "        df['d_next'] = df['d'].shift(-24)\n",
    "        df.dropna(inplace=True)\n",
    "        X = df[['d', 'w', 'm', '6h', '12h', '18h']]\n",
    "        X = sm.add_constant(X)\n",
    "        y = df['d_next']\n",
    "        res = sm.OLS(y, X).fit()\n",
    "    return res, y, X"
   ]
  },
  {
   "cell_type": "code",
   "execution_count": 130,
   "id": "2a1a20a5-2be5-4910-8f15-0f2420388dd5",
   "metadata": {},
   "outputs": [],
   "source": [
    "def make_empty_results():\n",
    "    model_names = list(model_name_to_coefs.keys())\n",
    "    data_type_names = ['Calendar', 'Rolling']\n",
    "    # coef_names = [\"$\\\\alpha$\", \"$\\\\beta^{(d)}_1$\", \"$\\\\beta^{(d)}_{2\\\\sim1}$\", \"$\\\\beta^{(d)}_{3\\\\sim2}$\", \n",
    "    #               \"$\\\\beta^{(w)}$\", \"$\\\\beta^{(m)}$\",\n",
    "    #               \"$\\\\beta^{(h)}_6$\", \"$\\\\beta^{(h)}_{12}$\", \"$\\\\beta^{(h)}_{18}$\"\n",
    "    #              ]\n",
    "    coef_names = list(set([item for sublist in model_name_to_coefs.values() for item in sublist]))\n",
    "    coef_detail_names = ['coef.', 'std.err.']\n",
    "    summary_names = ['$R^2$', 'MSE', 'QLIKE']\n",
    "\n",
    "    column_iterable = [model_names, data_type_names]\n",
    "    column_iterable_name = [\"Model\", \"Data\"]\n",
    "    column_index = pd.MultiIndex.from_product(column_iterable, names=column_iterable_name)\n",
    "\n",
    "    row_iterable = [coef_names, coef_detail_names]\n",
    "    row_index = pd.MultiIndex.from_product(row_iterable)\n",
    "    row_summary_index = pd.MultiIndex.from_product([summary_names, [\"val.\"]])\n",
    "    row_index = row_index.append(row_summary_index)\n",
    "    \n",
    "    df_length = 2 * len(coef_names) + len(summary_names)\n",
    "    \n",
    "    return pd.DataFrame(np.full([df_length, 8], np.nan), index=row_index, columns=column_index)"
   ]
  },
  {
   "cell_type": "code",
   "execution_count": 32,
   "id": "758e1e33-0caa-4d70-beff-c21cf8d2f8e7",
   "metadata": {},
   "outputs": [],
   "source": [
    "def write_to_results_df(res, y, X, model_name, coef_names_used, data_type, results):\n",
    "    summary_names = ['$R^2$', 'MSE', 'QLIKE']\n",
    "    new = res.get_robustcov_results(cov_type='HAC', maxlags=5)\n",
    "    for coef_name, coef in zip(coef_names_used, new.params):\n",
    "        results[model_name, data_type].loc[coef_name, \"coef.\"] = coef\n",
    "    for coef_name, std_err in zip(coef_names_used, new.bse):\n",
    "        results[model_name, data_type].loc[coef_name, \"std.err.\"] = std_err\n",
    "    summaries = [\n",
    "        r_squared_daily(y, X, new), \n",
    "        mean_squared_daily(y, X, new), \n",
    "        q_likelihood_daily(y, X, new)\n",
    "    ]\n",
    "    for summary_name, summary in zip(summary_names, summaries):\n",
    "        results[model_name, data_type].loc[summary_name, \"val.\"] = summary"
   ]
  },
  {
   "cell_type": "code",
   "execution_count": 96,
   "id": "cf4b333f-9ba8-49ea-ac11-608a3e464873",
   "metadata": {},
   "outputs": [],
   "source": [
    "model_name_to_function = {\n",
    "    'AR(1)' : partial(in_sample_AR, lag_days=1),\n",
    "    'AR(30)' : partial(in_sample_AR, lag_days=30),\n",
    "    'HAR' : in_sample_HAR,\n",
    "    'HAR+I' : in_sample_HAR_plus_I\n",
    "}"
   ]
  },
  {
   "cell_type": "code",
   "execution_count": 129,
   "id": "899871b9-b853-4e67-976a-29742d7d2c20",
   "metadata": {},
   "outputs": [
    {
     "data": {
      "text/plain": [
       "['AR(1)', 'AR(30)', 'HAR', 'HAR+I']"
      ]
     },
     "execution_count": 129,
     "metadata": {},
     "output_type": "execute_result"
    }
   ],
   "source": [
    "list(model_name_to_coefs.keys())"
   ]
  },
  {
   "cell_type": "code",
   "execution_count": 101,
   "id": "663d6c23-1740-446a-9555-15318d76c617",
   "metadata": {},
   "outputs": [],
   "source": [
    "orig = [\"$\\\\alpha$\", \"$\\\\beta^{(d)}_1$\"]"
   ]
  },
  {
   "cell_type": "code",
   "execution_count": 102,
   "id": "c5ad4877-bd8b-4613-8772-a9bcaa1b521e",
   "metadata": {},
   "outputs": [
    {
     "data": {
      "text/plain": [
       "['$\\\\alpha$',\n",
       " '$\\\\beta^{(d)}_1$',\n",
       " '$\\\\beta^{(d)}_{2\\\\sim1}$',\n",
       " '$\\\\beta^{(d)}_{3\\\\sim2}$',\n",
       " '$\\\\beta^{(d)}_{4\\\\sim3}$',\n",
       " '$\\\\beta^{(d)}_{5\\\\sim4}$',\n",
       " '$\\\\beta^{(d)}_{6\\\\sim5}$',\n",
       " '$\\\\beta^{(d)}_{7\\\\sim6}$',\n",
       " '$\\\\beta^{(d)}_{8\\\\sim7}$',\n",
       " '$\\\\beta^{(d)}_{9\\\\sim8}$',\n",
       " '$\\\\beta^{(d)}_{10\\\\sim9}$',\n",
       " '$\\\\beta^{(d)}_{11\\\\sim10}$',\n",
       " '$\\\\beta^{(d)}_{12\\\\sim11}$',\n",
       " '$\\\\beta^{(d)}_{13\\\\sim12}$',\n",
       " '$\\\\beta^{(d)}_{14\\\\sim13}$',\n",
       " '$\\\\beta^{(d)}_{15\\\\sim14}$',\n",
       " '$\\\\beta^{(d)}_{16\\\\sim15}$',\n",
       " '$\\\\beta^{(d)}_{17\\\\sim16}$',\n",
       " '$\\\\beta^{(d)}_{18\\\\sim17}$',\n",
       " '$\\\\beta^{(d)}_{19\\\\sim18}$',\n",
       " '$\\\\beta^{(d)}_{20\\\\sim19}$',\n",
       " '$\\\\beta^{(d)}_{21\\\\sim20}$',\n",
       " '$\\\\beta^{(d)}_{22\\\\sim21}$',\n",
       " '$\\\\beta^{(d)}_{23\\\\sim22}$',\n",
       " '$\\\\beta^{(d)}_{24\\\\sim23}$',\n",
       " '$\\\\beta^{(d)}_{25\\\\sim24}$',\n",
       " '$\\\\beta^{(d)}_{26\\\\sim25}$',\n",
       " '$\\\\beta^{(d)}_{27\\\\sim26}$',\n",
       " '$\\\\beta^{(d)}_{28\\\\sim27}$',\n",
       " '$\\\\beta^{(d)}_{29\\\\sim28}$',\n",
       " '$\\\\beta^{(d)}_{30\\\\sim29}$']"
      ]
     },
     "execution_count": 102,
     "metadata": {},
     "output_type": "execute_result"
    }
   ],
   "source": [
    "[\"$\\\\alpha$\", \"$\\\\beta^{(d)}_1$\"] + [f\"$\\\\beta^{{(d)}}_{{{i + 1}\\\\sim{i}}}$\" for i in range(1, 30)]"
   ]
  },
  {
   "cell_type": "code",
   "execution_count": 118,
   "id": "7ff45a7a-0723-4b91-8426-8fa6c0a976b5",
   "metadata": {},
   "outputs": [],
   "source": [
    "a = list(set([item for sublist in model_name_to_coefs.values() for item in sublist]))"
   ]
  },
  {
   "cell_type": "code",
   "execution_count": null,
   "id": "02abe96b-59de-46f2-96a9-16142fb8fd3b",
   "metadata": {},
   "outputs": [],
   "source": []
  },
  {
   "cell_type": "code",
   "execution_count": null,
   "id": "c0bc1500-1bf8-40bb-83dc-27b5702695dd",
   "metadata": {},
   "outputs": [],
   "source": []
  },
  {
   "cell_type": "code",
   "execution_count": 119,
   "id": "b7ba7549-8f58-429f-9eb0-51c2baf90e28",
   "metadata": {},
   "outputs": [
    {
     "data": {
      "text/plain": [
       "['$\\\\alpha$',\n",
       " '$\\\\beta^{(d)}_1$',\n",
       " '$\\\\beta^{(d)}_{10\\\\sim9}$',\n",
       " '$\\\\beta^{(d)}_{11\\\\sim10}$',\n",
       " '$\\\\beta^{(d)}_{12\\\\sim11}$',\n",
       " '$\\\\beta^{(d)}_{13\\\\sim12}$',\n",
       " '$\\\\beta^{(d)}_{14\\\\sim13}$',\n",
       " '$\\\\beta^{(d)}_{15\\\\sim14}$',\n",
       " '$\\\\beta^{(d)}_{16\\\\sim15}$',\n",
       " '$\\\\beta^{(d)}_{17\\\\sim16}$',\n",
       " '$\\\\beta^{(d)}_{18\\\\sim17}$',\n",
       " '$\\\\beta^{(d)}_{19\\\\sim18}$',\n",
       " '$\\\\beta^{(d)}_{20\\\\sim19}$',\n",
       " '$\\\\beta^{(d)}_{21\\\\sim20}$',\n",
       " '$\\\\beta^{(d)}_{22\\\\sim21}$',\n",
       " '$\\\\beta^{(d)}_{23\\\\sim22}$',\n",
       " '$\\\\beta^{(d)}_{24\\\\sim23}$',\n",
       " '$\\\\beta^{(d)}_{25\\\\sim24}$',\n",
       " '$\\\\beta^{(d)}_{26\\\\sim25}$',\n",
       " '$\\\\beta^{(d)}_{27\\\\sim26}$',\n",
       " '$\\\\beta^{(d)}_{28\\\\sim27}$',\n",
       " '$\\\\beta^{(d)}_{29\\\\sim28}$',\n",
       " '$\\\\beta^{(d)}_{2\\\\sim1}$',\n",
       " '$\\\\beta^{(d)}_{30\\\\sim29}$',\n",
       " '$\\\\beta^{(d)}_{3\\\\sim2}$',\n",
       " '$\\\\beta^{(d)}_{4\\\\sim3}$',\n",
       " '$\\\\beta^{(d)}_{5\\\\sim4}$',\n",
       " '$\\\\beta^{(d)}_{6\\\\sim5}$',\n",
       " '$\\\\beta^{(d)}_{7\\\\sim6}$',\n",
       " '$\\\\beta^{(d)}_{8\\\\sim7}$',\n",
       " '$\\\\beta^{(d)}_{9\\\\sim8}$',\n",
       " '$\\\\beta^{(h)}_6$',\n",
       " '$\\\\beta^{(h)}_{12}$',\n",
       " '$\\\\beta^{(h)}_{18}$',\n",
       " '$\\\\beta^{(m)}$',\n",
       " '$\\\\beta^{(w)}$']"
      ]
     },
     "execution_count": 119,
     "metadata": {},
     "output_type": "execute_result"
    }
   ],
   "source": [
    "a"
   ]
  },
  {
   "cell_type": "code",
   "execution_count": null,
   "id": "11a62fbd-8d65-48bf-b975-a4bf09981a54",
   "metadata": {},
   "outputs": [],
   "source": []
  },
  {
   "cell_type": "code",
   "execution_count": 103,
   "id": "7bb049fd-afb5-455b-ab09-6b971d76f26c",
   "metadata": {},
   "outputs": [],
   "source": [
    "model_name_to_coefs = {\n",
    "    'AR(1)' : [\"$\\\\alpha$\", \"$\\\\beta^{(d)}_1$\"],\n",
    "    'AR(30)' : [\"$\\\\alpha$\", \"$\\\\beta^{(d)}_1$\"] + [f\"$\\\\beta^{{(d)}}_{{{i + 1}\\\\sim{i}}}$\" for i in range(1, 30)],\n",
    "    'HAR' : [\"$\\\\alpha$\", \"$\\\\beta^{(d)}_1$\", \"$\\\\beta^{(w)}$\", \"$\\\\beta^{(m)}$\"],\n",
    "    'HAR+I' : [\n",
    "        \"$\\\\alpha$\", \"$\\\\beta^{(d)}_1$\", \"$\\\\beta^{(w)}$\", \"$\\\\beta^{(m)}$\", \n",
    "        \"$\\\\beta^{(h)}_6$\", \"$\\\\beta^{(h)}_{12}$\", \"$\\\\beta^{(h)}_{18}$\"\n",
    "    ]\n",
    "}"
   ]
  },
  {
   "cell_type": "code",
   "execution_count": 104,
   "id": "a55b9fba-8ea5-49ff-86b3-ac9839b05078",
   "metadata": {},
   "outputs": [],
   "source": [
    "def in_sample(\n",
    "    input_folder_name, symbols_list, model_name_to_function, model_name_to_coefs, out_folder,\n",
    "):\n",
    "    symbol_to_results = dict()\n",
    "    out_file_prefix = out_folder + '/in_sample_'\n",
    "    out_file_suffix = '.tex'\n",
    "    for symbol in symbols_list:\n",
    "        try:\n",
    "            results = make_empty_results()\n",
    "            for data_type in ['Calendar', 'Rolling']:\n",
    "                for model_name, function in model_name_to_function.items():\n",
    "                    coef_names_used = model_name_to_coefs[model_name]\n",
    "                    res, y, X = function(\n",
    "                        input_folder_name=input_folder_name, \n",
    "                        symbol=symbol, \n",
    "                        data_type=data_type,\n",
    "                    )\n",
    "                    write_to_results_df(res, y, X, model_name, coef_names_used, data_type, results)\n",
    "            symbol_to_results[symbol] = results\n",
    "            file_name = out_file_prefix + symbol + out_file_suffix\n",
    "            # results.to_latex(\n",
    "            #     file_name,\n",
    "            #     escape=False, \n",
    "            #     float_format=\"%.5f\", \n",
    "            #     multirow=True, \n",
    "            #     na_rep=\"\", \n",
    "            #     multicolumn_format=\"c\",\n",
    "            # )\n",
    "            print(f\"Success for {symbol}.\")\n",
    "        except Exception as e:\n",
    "            print(f\"Failure for {symbol}.\")\n",
    "            print(e)\n",
    "    return symbol_to_results"
   ]
  },
  {
   "cell_type": "code",
   "execution_count": 122,
   "id": "fdbdca22-6acb-4e9d-9c52-fe603073f249",
   "metadata": {},
   "outputs": [],
   "source": [
    "from IPython.core.debugger import set_trace"
   ]
  },
  {
   "cell_type": "code",
   "execution_count": 126,
   "id": "5db2530b-bc70-4a41-ba74-c21e17b9ec22",
   "metadata": {},
   "outputs": [],
   "source": [
    "def main():\n",
    "    symbols_list_file_name = \"binance_BTC_from_2019_05_01_to_2022_04_30.json\"\n",
    "    with open(symbols_list_file_name, \"r\") as f:\n",
    "        symbols_list = json.load(f)\n",
    "    symbols_list.remove('scbtc')\n",
    "\n",
    "    input_folder_name = \"full_returns_winsorised\"\n",
    "    out_folder = 'results'\n",
    "    \n",
    "    # set_trace()\n",
    "    symbol_to_results = in_sample(\n",
    "        input_folder_name, symbols_list, model_name_to_function, model_name_to_coefs, out_folder,\n",
    "    )\n",
    "\n",
    "    summary_names = ['$R^2$', 'MSE', 'QLIKE']\n",
    "\n",
    "    list_of_dfs = []\n",
    "    for results in symbol_to_results.values():\n",
    "        df = results.loc[summary_names]\n",
    "        list_of_dfs.append(df)\n",
    "    summary_means = pd.concat(list_of_dfs).groupby(level=0).mean()\n",
    "\n",
    "    file_name = 'results/in_sample_summary.tex'\n",
    "    \n",
    "    precision_digits = 3\n",
    "    format_type='g'\n",
    "    alternate = '#'\n",
    "    my_formatter = f\"{{:{alternate}.{precision_digits}{format_type}}}\".format\n",
    "\n",
    "    summary_means.to_latex(\n",
    "        file_name,\n",
    "        escape=False, \n",
    "        float_format=my_formatter, \n",
    "        multirow=True, \n",
    "        na_rep=\"\", \n",
    "        multicolumn_format=\"c\",\n",
    "    )"
   ]
  },
  {
   "cell_type": "code",
   "execution_count": 131,
   "id": "af4cbcf0-f50e-4b9f-a4da-80a88edc9be3",
   "metadata": {},
   "outputs": [
    {
     "name": "stderr",
     "output_type": "stream",
     "text": [
      "c:\\users\\wang-\\appdata\\local\\programs\\python\\python37\\lib\\site-packages\\pandas\\core\\arraylike.py:364: RuntimeWarning: invalid value encountered in log\n",
      "  result = getattr(ufunc, method)(*inputs, **kwargs)\n"
     ]
    },
    {
     "name": "stdout",
     "output_type": "stream",
     "text": [
      "Success for bnbbtc.\n",
      "Success for adabtc.\n",
      "Success for ethbtc.\n",
      "Success for batbtc.\n",
      "Success for btcusdc.\n",
      "Success for btcusdt.\n",
      "Success for neobtc.\n",
      "Success for btctusd.\n",
      "Success for etcbtc.\n",
      "Success for ltcbtc.\n",
      "Success for xrpbtc.\n",
      "Success for trxbtc.\n",
      "Success for eosbtc.\n",
      "Success for xmrbtc.\n",
      "Success for zecbtc.\n",
      "Success for qtumbtc.\n",
      "Success for dcrbtc.\n",
      "Success for xlmbtc.\n",
      "Success for iotabtc.\n",
      "Success for manabtc.\n",
      "Success for dashbtc.\n",
      "Success for zrxbtc.\n",
      "Success for repbtc.\n"
     ]
    }
   ],
   "source": [
    "main()"
   ]
  },
  {
   "cell_type": "code",
   "execution_count": null,
   "id": "4985fcc9-a3e3-4fc4-bc70-0d71bf46fad8",
   "metadata": {},
   "outputs": [],
   "source": []
  },
  {
   "cell_type": "code",
   "execution_count": null,
   "id": "78f87ced-b45a-45ee-8fed-7efd670b9d8c",
   "metadata": {},
   "outputs": [],
   "source": [
    "def print_latex_code_for_all_symbols():\n",
    "    symbols_list_large = [symbol.upper() for symbol in symbols_list]\n",
    "\n",
    "    for symbol, symbol_large in zip(symbols_list, symbols_list_large):\n",
    "        s = '''\n",
    "        \\\\begin{table}[]\n",
    "        \\small\n",
    "        \\\\begin{adjustwidth}{-0.8in}{-0.8in}\n",
    "        \\input{results/in_sample_%s.tex}\n",
    "        \\end{adjustwidth}\n",
    "            \\caption{In-sample coefficients and summaries for volatility regressions for the cryptoasset pair %s using all 3 years of data. We report Newey-West robust standard errors with maximum 5 lags. The $R^2$, MSE, and QLIKE for Rolling data are computed using end-of-day data only to allow for comparison with those for Calendar data.}\n",
    "            \\label{tab:in_sample_%s}\n",
    "        \\end{table}\n",
    "        ''' % (symbol, symbol_large, symbol)\n",
    "        print(s)"
   ]
  },
  {
   "cell_type": "code",
   "execution_count": null,
   "id": "a1c5b9c3-47ba-42e1-882f-ea523f4f751e",
   "metadata": {},
   "outputs": [],
   "source": []
  },
  {
   "cell_type": "code",
   "execution_count": 284,
   "id": "fd208dc5-df47-48f7-96bc-113be36649e9",
   "metadata": {},
   "outputs": [],
   "source": [
    "# r, a = in_sample_AR_with_selection(input_folder_name, lag_days_list, symbol, 'rolling')\n",
    "\n",
    "# best_lag = dict()\n",
    "\n",
    "# for symbol in symbols_list:\n",
    "#     r, a = in_sample_AR_with_selection(input_folder_name, lag_days_list, symbol, 'rolling')\n",
    "#     b = min(a, key=a.get)\n",
    "#     best_lag[symbol] = b"
   ]
  },
  {
   "cell_type": "code",
   "execution_count": 285,
   "id": "9f5bbdc8-0d83-4e3c-9059-2ba6dff4509a",
   "metadata": {},
   "outputs": [
    {
     "data": {
      "text/plain": [
       "{'bnbbtc': 3,\n",
       " 'adabtc': 4,\n",
       " 'ethbtc': 4,\n",
       " 'batbtc': 1,\n",
       " 'btcusdc': 3,\n",
       " 'btcusdt': 3,\n",
       " 'neobtc': 3,\n",
       " 'btctusd': 4,\n",
       " 'etcbtc': 3,\n",
       " 'ltcbtc': 3,\n",
       " 'xrpbtc': 3,\n",
       " 'trxbtc': 3,\n",
       " 'eosbtc': 3,\n",
       " 'xmrbtc': 3,\n",
       " 'zecbtc': 4,\n",
       " 'qtumbtc': 4,\n",
       " 'dcrbtc': 4,\n",
       " 'xlmbtc': 1,\n",
       " 'iotabtc': 3,\n",
       " 'manabtc': 3,\n",
       " 'dashbtc': 4,\n",
       " 'zrxbtc': 1,\n",
       " 'scbtc': 3,\n",
       " 'repbtc': 1}"
      ]
     },
     "execution_count": 285,
     "metadata": {},
     "output_type": "execute_result"
    }
   ],
   "source": [
    "# best_lag"
   ]
  },
  {
   "cell_type": "code",
   "execution_count": 263,
   "id": "cdb234f7-6549-4692-bf9a-2e895437b673",
   "metadata": {},
   "outputs": [
    {
     "data": {
      "text/plain": [
       "[<matplotlib.lines.Line2D at 0x1f402d63bc8>]"
      ]
     },
     "execution_count": 263,
     "metadata": {},
     "output_type": "execute_result"
    },
    {
     "data": {
      "image/png": "[encoded data removed]",
      "text/plain": [
       "<Figure size 432x288 with 1 Axes>"
      ]
     },
     "metadata": {
      "needs_background": "light"
     },
     "output_type": "display_data"
    }
   ],
   "source": [
    "# plt.plot(lag_days_list, list(AICs.values()))"
   ]
  },
  {
   "cell_type": "code",
   "execution_count": 267,
   "id": "8c807ba9-18b6-4f03-8072-286856094039",
   "metadata": {},
   "outputs": [
    {
     "data": {
      "text/plain": [
       "4"
      ]
     },
     "execution_count": 267,
     "metadata": {},
     "output_type": "execute_result"
    }
   ],
   "source": [
    "# min(AICs, key=AICs.get)"
   ]
  },
  {
   "cell_type": "code",
   "execution_count": 264,
   "id": "b367c8bd-4756-4610-84dd-593ffd43710e",
   "metadata": {},
   "outputs": [
    {
     "data": {
      "text/plain": [
       "{1: -282413.32363064075,\n",
       " 2: -282536.0615502746,\n",
       " 3: -282927.33722002874,\n",
       " 4: -283384.1961564978,\n",
       " 5: -283103.32663714397,\n",
       " 6: -282834.9751534167,\n",
       " 7: -282552.74119831336,\n",
       " 14: -281320.30666379665,\n",
       " 30: -277858.7621947678}"
      ]
     },
     "execution_count": 264,
     "metadata": {},
     "output_type": "execute_result"
    }
   ],
   "source": [
    "# AICs"
   ]
  },
  {
   "cell_type": "code",
   "execution_count": 65,
   "id": "9ac37b53",
   "metadata": {},
   "outputs": [
    {
     "data": {
      "text/plain": [
       "<AxesSubplot:>"
      ]
     },
     "execution_count": 65,
     "metadata": {},
     "output_type": "execute_result"
    },
    {
     "data": {
      "image/png": "[encoded data removed]",
      "text/plain": [
       "<Figure size 432x288 with 1 Axes>"
      ]
     },
     "metadata": {
      "needs_background": "light"
     },
     "output_type": "display_data"
    }
   ],
   "source": [
    "# predictions = res.predict()\n",
    "# df_res = volas_train_rolled.copy(deep=True)\n",
    "# df_res[\"pred\"] = predictions\n",
    "# ((df_res['adabtc'] - df_res['pred']) ** 2).sum()\n",
    "# df_res.plot()"
   ]
  }
 ],
 "metadata": {
  "kernelspec": {
   "display_name": "Python 3 (ipykernel)",
   "language": "python",
   "name": "python3"
  },
  "language_info": {
   "codemirror_mode": {
    "name": "ipython",
    "version": 3
   },
   "file_extension": ".py",
   "mimetype": "text/x-python",
   "name": "python",
   "nbconvert_exporter": "python",
   "pygments_lexer": "ipython3",
   "version": "3.7.9"
  }
 },
 "nbformat": 4,
 "nbformat_minor": 5
}

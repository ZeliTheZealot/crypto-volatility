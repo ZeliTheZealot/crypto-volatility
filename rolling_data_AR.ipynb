{
 "cells": [
  {
   "cell_type": "code",
   "execution_count": 1,
   "id": "57161325",
   "metadata": {},
   "outputs": [],
   "source": [
    "import os\n",
    "import pandas as pd\n",
    "import numpy as np\n",
    "import datetime as dt\n",
    "import pathlib\n",
    "import re\n",
    "import json\n",
    "import math\n",
    "import seaborn as sns\n",
    "import matplotlib.pyplot as plt\n",
    "import scipy as sp\n",
    "from statsmodels.tsa.ar_model import AutoReg, ar_select_order\n",
    "\n",
    "symbols_list_file_name = \"binance_BTC_from_2019_05_01_to_2022_04_30.json\"\n",
    "with open(symbols_list_file_name, \"r\") as f:\n",
    "    symbols_list = json.load(f)\n",
    "\n",
    "input_folder_name = \"full_returns_winsorised\""
   ]
  },
  {
   "cell_type": "code",
   "execution_count": 2,
   "id": "b27568e1",
   "metadata": {},
   "outputs": [],
   "source": [
    "# note: we never have to save anything (No need, and takes too much space) \n",
    "# this code is just repeated when we run the models"
   ]
  },
  {
   "cell_type": "code",
   "execution_count": null,
   "id": "10ee83d4",
   "metadata": {},
   "outputs": [],
   "source": [
    "# consider shifting the data label one day prior\n",
    "# so 2019-05-01 0:00 denotes the vol in 2019-05-01 0:00 to 2019-05-02 0:00"
   ]
  },
  {
   "cell_type": "code",
   "execution_count": 182,
   "id": "4edbce1f",
   "metadata": {},
   "outputs": [],
   "source": [
    "symbol = 'adabtc'\n",
    "file_name = symbol + '.csv.gz'\n",
    "path = os.path.join(os.getcwd(), input_folder_name, file_name)\n",
    "df = pd.read_csv(path, compression='gzip')\n",
    "\n",
    "nums = df.index\n",
    "first_day_first_minute = dt.datetime(2019, 5, 1)\n",
    "initial_time = dt.datetime.utcfromtimestamp(0)\n",
    "theoretical_first_minute = math.floor(\n",
    "    (first_day_first_minute - initial_time) / dt.timedelta(minutes=1)\n",
    ")\n",
    "dt_index = pd.to_datetime(theoretical_first_minute + nums, unit=\"m\")\n",
    "df.set_index(dt_index, inplace=True)\n",
    "squared_returns = df.pow(2)\n",
    "volas = squared_returns.groupby(pd.Grouper(freq=\"H\")).sum()\n",
    "\n",
    "train_size = 731 * 24 # probably add 184 to this\n",
    "volas_train = volas[:train_size]\n",
    "volas_train_rolled = volas_train.rolling(24).sum()\n",
    "volas_train_rolled.dropna(inplace=True)\n",
    "volas_train_rolled.index += pd.DateOffset(hours=1) # need to do this on test as well "
   ]
  },
  {
   "cell_type": "code",
   "execution_count": 203,
   "id": "2a8d383d",
   "metadata": {},
   "outputs": [],
   "source": [
    "lag_days_list = [1, 2, 3, 7, 14, 30]\n",
    "\n",
    "AR_mods = dict()\n",
    "for lag_days in lag_days_list:\n",
    "    AR_lookback = lag_days * 24\n",
    "    mod = AutoReg(volas_train_rolled, AR_lookback, old_names=False)\n",
    "    AR_mods[lag_days] = mod\n",
    "\n",
    "AICs = []\n",
    "for lag_days in lag_days_list:\n",
    "    mod = AR_mods[lag_days]\n",
    "    AICs.append(mod.fit().aic)\n",
    "AICs # so 7 is best (in this case!) (lower is better)\n",
    "\n",
    "lag_days = 7 \n",
    "mod = AR_mods[lag_days]\n",
    "\n",
    "res = mod.fit()"
   ]
  },
  {
   "cell_type": "code",
   "execution_count": 212,
   "id": "4e5d7fd7",
   "metadata": {},
   "outputs": [],
   "source": [
    "# manually write a selection function based on this"
   ]
  },
  {
   "cell_type": "code",
   "execution_count": 213,
   "id": "9ac37b53",
   "metadata": {},
   "outputs": [],
   "source": [
    "predictions = res.predict()\n",
    "df_res = volas_train_rolled.copy(deep=True)\n",
    "df_res[\"pred\"] = predictions\n",
    "((df_res['adabtc'] - df_res['pred']) ** 2).sum()\n",
    "df_res.plot()"
   ]
  },
  {
   "cell_type": "code",
   "execution_count": 222,
   "id": "d89abbc9",
   "metadata": {},
   "outputs": [],
   "source": [
    "# need to get rid of useless intraday stuff and re-measure\n",
    "\n"
   ]
  }
 ],
 "metadata": {
  "kernelspec": {
   "display_name": "Python 3 (ipykernel)",
   "language": "python",
   "name": "python3"
  },
  "language_info": {
   "codemirror_mode": {
    "name": "ipython",
    "version": 3
   },
   "file_extension": ".py",
   "mimetype": "text/x-python",
   "name": "python",
   "nbconvert_exporter": "python",
   "pygments_lexer": "ipython3",
   "version": "3.7.9"
  }
 },
 "nbformat": 4,
 "nbformat_minor": 5
}

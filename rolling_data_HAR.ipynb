{
 "cells": [
  {
   "cell_type": "code",
   "execution_count": 1,
   "id": "42138125",
   "metadata": {},
   "outputs": [],
   "source": [
    "import os\n",
    "import pandas as pd\n",
    "import numpy as np\n",
    "import datetime as dt\n",
    "import pathlib\n",
    "import re\n",
    "import json\n",
    "import math\n",
    "import seaborn as sns\n",
    "import matplotlib.pyplot as plt\n",
    "import scipy as sp\n",
    "from statsmodels.tsa.ar_model import AutoReg, ar_select_order\n",
    "\n",
    "symbols_list_file_name = \"binance_BTC_from_2019_05_01_to_2022_04_30.json\"\n",
    "with open(symbols_list_file_name, \"r\") as f:\n",
    "    symbols_list = json.load(f)\n",
    "\n",
    "input_folder_name = \"full_returns_winsorised\""
   ]
  },
  {
   "cell_type": "code",
   "execution_count": null,
   "id": "abbf34d7",
   "metadata": {},
   "outputs": [],
   "source": [
    "symbol = 'adabtc'\n",
    "file_name = symbol + '.csv.gz'\n",
    "path = os.path.join(os.getcwd(), input_folder_name, file_name)\n",
    "df = pd.read_csv(path, compression='gzip')\n",
    "\n",
    "nums = df.index\n",
    "first_day_first_minute = dt.datetime(2019, 5, 1)\n",
    "initial_time = dt.datetime.utcfromtimestamp(0)\n",
    "theoretical_first_minute = math.floor(\n",
    "    (first_day_first_minute - initial_time) / dt.timedelta(minutes=1)\n",
    ")\n",
    "dt_index = pd.to_datetime(theoretical_first_minute + nums, unit=\"m\")\n",
    "df.set_index(dt_index, inplace=True)\n",
    "squared_returns = df.pow(2)\n",
    "volas = squared_returns.groupby(pd.Grouper(freq=\"H\")).sum()"
   ]
  },
  {
   "cell_type": "code",
   "execution_count": 2,
   "id": "0318ca8d",
   "metadata": {},
   "outputs": [],
   "source": [
    "# CAREFUL TO SEE IF ALREADY SHIFTED HOUR\n",
    "train_size = 731 * 24\n",
    "volas_train = volas[:train_size]\n",
    "volas_train_rolled = volas_train.rolling(24).sum()\n",
    "volas_train_rolled.dropna(inplace=True)\n",
    "volas_train_rolled.index += pd.DateOffset(hours=1) # need to do this on test as well "
   ]
  },
  {
   "cell_type": "code",
   "execution_count": 46,
   "id": "32611c9b",
   "metadata": {},
   "outputs": [
    {
     "data": {
      "text/html": [
       "<div>\n",
       "<style scoped>\n",
       "    .dataframe tbody tr th:only-of-type {\n",
       "        vertical-align: middle;\n",
       "    }\n",
       "\n",
       "    .dataframe tbody tr th {\n",
       "        vertical-align: top;\n",
       "    }\n",
       "\n",
       "    .dataframe thead th {\n",
       "        text-align: right;\n",
       "    }\n",
       "</style>\n",
       "<table border=\"1\" class=\"dataframe\">\n",
       "  <thead>\n",
       "    <tr style=\"text-align: right;\">\n",
       "      <th></th>\n",
       "      <th>adabtc</th>\n",
       "    </tr>\n",
       "  </thead>\n",
       "  <tbody>\n",
       "    <tr>\n",
       "      <th>2019-05-01 00:00:00</th>\n",
       "      <td>0.000088</td>\n",
       "    </tr>\n",
       "    <tr>\n",
       "      <th>2019-05-01 01:00:00</th>\n",
       "      <td>0.000053</td>\n",
       "    </tr>\n",
       "    <tr>\n",
       "      <th>2019-05-01 02:00:00</th>\n",
       "      <td>0.000024</td>\n",
       "    </tr>\n",
       "    <tr>\n",
       "      <th>2019-05-01 03:00:00</th>\n",
       "      <td>0.000030</td>\n",
       "    </tr>\n",
       "    <tr>\n",
       "      <th>2019-05-01 04:00:00</th>\n",
       "      <td>0.000046</td>\n",
       "    </tr>\n",
       "    <tr>\n",
       "      <th>...</th>\n",
       "      <td>...</td>\n",
       "    </tr>\n",
       "    <tr>\n",
       "      <th>2022-04-30 19:00:00</th>\n",
       "      <td>0.000015</td>\n",
       "    </tr>\n",
       "    <tr>\n",
       "      <th>2022-04-30 20:00:00</th>\n",
       "      <td>0.000016</td>\n",
       "    </tr>\n",
       "    <tr>\n",
       "      <th>2022-04-30 21:00:00</th>\n",
       "      <td>0.000010</td>\n",
       "    </tr>\n",
       "    <tr>\n",
       "      <th>2022-04-30 22:00:00</th>\n",
       "      <td>0.000098</td>\n",
       "    </tr>\n",
       "    <tr>\n",
       "      <th>2022-04-30 23:00:00</th>\n",
       "      <td>0.000203</td>\n",
       "    </tr>\n",
       "  </tbody>\n",
       "</table>\n",
       "<p>26304 rows × 1 columns</p>\n",
       "</div>"
      ],
      "text/plain": [
       "                       adabtc\n",
       "2019-05-01 00:00:00  0.000088\n",
       "2019-05-01 01:00:00  0.000053\n",
       "2019-05-01 02:00:00  0.000024\n",
       "2019-05-01 03:00:00  0.000030\n",
       "2019-05-01 04:00:00  0.000046\n",
       "...                       ...\n",
       "2022-04-30 19:00:00  0.000015\n",
       "2022-04-30 20:00:00  0.000016\n",
       "2022-04-30 21:00:00  0.000010\n",
       "2022-04-30 22:00:00  0.000098\n",
       "2022-04-30 23:00:00  0.000203\n",
       "\n",
       "[26304 rows x 1 columns]"
      ]
     },
     "execution_count": 46,
     "metadata": {},
     "output_type": "execute_result"
    }
   ],
   "source": [
    "volas"
   ]
  },
  {
   "cell_type": "code",
   "execution_count": 47,
   "id": "8b98b1f2",
   "metadata": {},
   "outputs": [],
   "source": [
    "volas_daily = volas.groupby(pd.Grouper(freq=\"D\")).sum()"
   ]
  },
  {
   "cell_type": "code",
   "execution_count": 49,
   "id": "674d4182",
   "metadata": {},
   "outputs": [],
   "source": [
    "volas_daily.rename(columns={symbol : 'd'}, inplace=True)"
   ]
  },
  {
   "cell_type": "code",
   "execution_count": 63,
   "id": "4c94001c",
   "metadata": {},
   "outputs": [],
   "source": [
    "train_size = 731 + 184\n",
    "volas_daily_train = volas_daily[:train_size]"
   ]
  },
  {
   "cell_type": "code",
   "execution_count": 84,
   "id": "8b1cf57f",
   "metadata": {},
   "outputs": [
    {
     "name": "stderr",
     "output_type": "stream",
     "text": [
      "c:\\users\\wang-\\appdata\\local\\programs\\python\\python37\\lib\\site-packages\\ipykernel_launcher.py:1: SettingWithCopyWarning: \n",
      "A value is trying to be set on a copy of a slice from a DataFrame.\n",
      "Try using .loc[row_indexer,col_indexer] = value instead\n",
      "\n",
      "See the caveats in the documentation: https://pandas.pydata.org/pandas-docs/stable/user_guide/indexing.html#returning-a-view-versus-a-copy\n",
      "  \"\"\"Entry point for launching an IPython kernel.\n"
     ]
    }
   ],
   "source": [
    "volas_daily_train['w'] = volas_daily_train['d'].rolling(7).sum()"
   ]
  },
  {
   "cell_type": "code",
   "execution_count": 85,
   "id": "1ee80d83",
   "metadata": {},
   "outputs": [
    {
     "name": "stderr",
     "output_type": "stream",
     "text": [
      "c:\\users\\wang-\\appdata\\local\\programs\\python\\python37\\lib\\site-packages\\ipykernel_launcher.py:1: SettingWithCopyWarning: \n",
      "A value is trying to be set on a copy of a slice from a DataFrame.\n",
      "Try using .loc[row_indexer,col_indexer] = value instead\n",
      "\n",
      "See the caveats in the documentation: https://pandas.pydata.org/pandas-docs/stable/user_guide/indexing.html#returning-a-view-versus-a-copy\n",
      "  \"\"\"Entry point for launching an IPython kernel.\n"
     ]
    }
   ],
   "source": [
    "volas_daily_train['m'] = volas_daily_train['d'].rolling(30).sum()"
   ]
  },
  {
   "cell_type": "code",
   "execution_count": 86,
   "id": "ca284af1",
   "metadata": {},
   "outputs": [
    {
     "data": {
      "text/html": [
       "<div>\n",
       "<style scoped>\n",
       "    .dataframe tbody tr th:only-of-type {\n",
       "        vertical-align: middle;\n",
       "    }\n",
       "\n",
       "    .dataframe tbody tr th {\n",
       "        vertical-align: top;\n",
       "    }\n",
       "\n",
       "    .dataframe thead th {\n",
       "        text-align: right;\n",
       "    }\n",
       "</style>\n",
       "<table border=\"1\" class=\"dataframe\">\n",
       "  <thead>\n",
       "    <tr style=\"text-align: right;\">\n",
       "      <th></th>\n",
       "      <th>d</th>\n",
       "      <th>w</th>\n",
       "      <th>m</th>\n",
       "    </tr>\n",
       "  </thead>\n",
       "  <tbody>\n",
       "    <tr>\n",
       "      <th>2019-05-01</th>\n",
       "      <td>0.000911</td>\n",
       "      <td>NaN</td>\n",
       "      <td>NaN</td>\n",
       "    </tr>\n",
       "    <tr>\n",
       "      <th>2019-05-02</th>\n",
       "      <td>0.000645</td>\n",
       "      <td>NaN</td>\n",
       "      <td>NaN</td>\n",
       "    </tr>\n",
       "    <tr>\n",
       "      <th>2019-05-03</th>\n",
       "      <td>0.001271</td>\n",
       "      <td>NaN</td>\n",
       "      <td>NaN</td>\n",
       "    </tr>\n",
       "    <tr>\n",
       "      <th>2019-05-04</th>\n",
       "      <td>0.001277</td>\n",
       "      <td>NaN</td>\n",
       "      <td>NaN</td>\n",
       "    </tr>\n",
       "    <tr>\n",
       "      <th>2019-05-05</th>\n",
       "      <td>0.000698</td>\n",
       "      <td>NaN</td>\n",
       "      <td>NaN</td>\n",
       "    </tr>\n",
       "    <tr>\n",
       "      <th>...</th>\n",
       "      <td>...</td>\n",
       "      <td>...</td>\n",
       "      <td>...</td>\n",
       "    </tr>\n",
       "    <tr>\n",
       "      <th>2021-10-27</th>\n",
       "      <td>0.001799</td>\n",
       "      <td>0.005400</td>\n",
       "      <td>0.023111</td>\n",
       "    </tr>\n",
       "    <tr>\n",
       "      <th>2021-10-28</th>\n",
       "      <td>0.001585</td>\n",
       "      <td>0.005722</td>\n",
       "      <td>0.024039</td>\n",
       "    </tr>\n",
       "    <tr>\n",
       "      <th>2021-10-29</th>\n",
       "      <td>0.000728</td>\n",
       "      <td>0.005759</td>\n",
       "      <td>0.024168</td>\n",
       "    </tr>\n",
       "    <tr>\n",
       "      <th>2021-10-30</th>\n",
       "      <td>0.000385</td>\n",
       "      <td>0.005745</td>\n",
       "      <td>0.024191</td>\n",
       "    </tr>\n",
       "    <tr>\n",
       "      <th>2021-10-31</th>\n",
       "      <td>0.000702</td>\n",
       "      <td>0.006111</td>\n",
       "      <td>0.024123</td>\n",
       "    </tr>\n",
       "  </tbody>\n",
       "</table>\n",
       "<p>915 rows × 3 columns</p>\n",
       "</div>"
      ],
      "text/plain": [
       "                   d         w         m\n",
       "2019-05-01  0.000911       NaN       NaN\n",
       "2019-05-02  0.000645       NaN       NaN\n",
       "2019-05-03  0.001271       NaN       NaN\n",
       "2019-05-04  0.001277       NaN       NaN\n",
       "2019-05-05  0.000698       NaN       NaN\n",
       "...              ...       ...       ...\n",
       "2021-10-27  0.001799  0.005400  0.023111\n",
       "2021-10-28  0.001585  0.005722  0.024039\n",
       "2021-10-29  0.000728  0.005759  0.024168\n",
       "2021-10-30  0.000385  0.005745  0.024191\n",
       "2021-10-31  0.000702  0.006111  0.024123\n",
       "\n",
       "[915 rows x 3 columns]"
      ]
     },
     "execution_count": 86,
     "metadata": {},
     "output_type": "execute_result"
    }
   ],
   "source": [
    "volas_daily_train"
   ]
  },
  {
   "cell_type": "code",
   "execution_count": 87,
   "id": "abb7b225",
   "metadata": {},
   "outputs": [],
   "source": [
    "import statsmodels.api as sm"
   ]
  },
  {
   "cell_type": "code",
   "execution_count": null,
   "id": "8e84d043",
   "metadata": {},
   "outputs": [],
   "source": []
  },
  {
   "cell_type": "code",
   "execution_count": 88,
   "id": "26fee20e",
   "metadata": {},
   "outputs": [
    {
     "name": "stderr",
     "output_type": "stream",
     "text": [
      "c:\\users\\wang-\\appdata\\local\\programs\\python\\python37\\lib\\site-packages\\ipykernel_launcher.py:1: SettingWithCopyWarning: \n",
      "A value is trying to be set on a copy of a slice from a DataFrame.\n",
      "Try using .loc[row_indexer,col_indexer] = value instead\n",
      "\n",
      "See the caveats in the documentation: https://pandas.pydata.org/pandas-docs/stable/user_guide/indexing.html#returning-a-view-versus-a-copy\n",
      "  \"\"\"Entry point for launching an IPython kernel.\n"
     ]
    }
   ],
   "source": [
    "volas_daily_train['d_next'] = volas_daily_train['d'].shift(-1)"
   ]
  },
  {
   "cell_type": "code",
   "execution_count": 89,
   "id": "e75fa06b",
   "metadata": {},
   "outputs": [
    {
     "name": "stderr",
     "output_type": "stream",
     "text": [
      "c:\\users\\wang-\\appdata\\local\\programs\\python\\python37\\lib\\site-packages\\pandas\\util\\_decorators.py:311: SettingWithCopyWarning: \n",
      "A value is trying to be set on a copy of a slice from a DataFrame\n",
      "\n",
      "See the caveats in the documentation: https://pandas.pydata.org/pandas-docs/stable/user_guide/indexing.html#returning-a-view-versus-a-copy\n",
      "  return func(*args, **kwargs)\n"
     ]
    }
   ],
   "source": [
    "volas_daily_train.dropna(inplace=True)"
   ]
  },
  {
   "cell_type": "code",
   "execution_count": 90,
   "id": "929985d7",
   "metadata": {},
   "outputs": [],
   "source": [
    "X = volas_daily_train[['d', 'w', 'm']]\n",
    "X = sm.add_constant(X)"
   ]
  },
  {
   "cell_type": "code",
   "execution_count": 91,
   "id": "7cf5975c",
   "metadata": {},
   "outputs": [],
   "source": [
    "y = volas_daily_train['d_next']"
   ]
  },
  {
   "cell_type": "code",
   "execution_count": null,
   "id": "3f35b3cf",
   "metadata": {},
   "outputs": [],
   "source": []
  },
  {
   "cell_type": "code",
   "execution_count": 92,
   "id": "e84f0efa",
   "metadata": {},
   "outputs": [],
   "source": [
    "mod = sm.OLS(y, X)"
   ]
  },
  {
   "cell_type": "code",
   "execution_count": 93,
   "id": "5eb4b724",
   "metadata": {},
   "outputs": [],
   "source": [
    "res = mod.fit()"
   ]
  },
  {
   "cell_type": "code",
   "execution_count": 94,
   "id": "52a082a4",
   "metadata": {},
   "outputs": [
    {
     "data": {
      "text/html": [
       "<table class=\"simpletable\">\n",
       "<caption>OLS Regression Results</caption>\n",
       "<tr>\n",
       "  <th>Dep. Variable:</th>         <td>d_next</td>      <th>  R-squared:         </th> <td>   0.595</td> \n",
       "</tr>\n",
       "<tr>\n",
       "  <th>Model:</th>                   <td>OLS</td>       <th>  Adj. R-squared:    </th> <td>   0.593</td> \n",
       "</tr>\n",
       "<tr>\n",
       "  <th>Method:</th>             <td>Least Squares</td>  <th>  F-statistic:       </th> <td>   431.0</td> \n",
       "</tr>\n",
       "<tr>\n",
       "  <th>Date:</th>             <td>Sun, 21 Aug 2022</td> <th>  Prob (F-statistic):</th> <td>2.87e-172</td>\n",
       "</tr>\n",
       "<tr>\n",
       "  <th>Time:</th>                 <td>11:47:49</td>     <th>  Log-Likelihood:    </th> <td>  4719.9</td> \n",
       "</tr>\n",
       "<tr>\n",
       "  <th>No. Observations:</th>      <td>   885</td>      <th>  AIC:               </th> <td>  -9432.</td> \n",
       "</tr>\n",
       "<tr>\n",
       "  <th>Df Residuals:</th>          <td>   881</td>      <th>  BIC:               </th> <td>  -9413.</td> \n",
       "</tr>\n",
       "<tr>\n",
       "  <th>Df Model:</th>              <td>     3</td>      <th>                     </th>     <td> </td>    \n",
       "</tr>\n",
       "<tr>\n",
       "  <th>Covariance Type:</th>      <td>nonrobust</td>    <th>                     </th>     <td> </td>    \n",
       "</tr>\n",
       "</table>\n",
       "<table class=\"simpletable\">\n",
       "<tr>\n",
       "    <td></td>       <th>coef</th>     <th>std err</th>      <th>t</th>      <th>P>|t|</th>  <th>[0.025</th>    <th>0.975]</th>  \n",
       "</tr>\n",
       "<tr>\n",
       "  <th>const</th> <td>    0.0002</td> <td> 7.64e-05</td> <td>    2.694</td> <td> 0.007</td> <td> 5.59e-05</td> <td>    0.000</td>\n",
       "</tr>\n",
       "<tr>\n",
       "  <th>d</th>     <td>    0.5827</td> <td>    0.034</td> <td>   16.930</td> <td> 0.000</td> <td>    0.515</td> <td>    0.650</td>\n",
       "</tr>\n",
       "<tr>\n",
       "  <th>w</th>     <td>    0.0319</td> <td>    0.007</td> <td>    4.314</td> <td> 0.000</td> <td>    0.017</td> <td>    0.046</td>\n",
       "</tr>\n",
       "<tr>\n",
       "  <th>m</th>     <td>    0.0028</td> <td>    0.002</td> <td>    1.716</td> <td> 0.086</td> <td>   -0.000</td> <td>    0.006</td>\n",
       "</tr>\n",
       "</table>\n",
       "<table class=\"simpletable\">\n",
       "<tr>\n",
       "  <th>Omnibus:</th>       <td>463.634</td> <th>  Durbin-Watson:     </th> <td>   1.995</td>\n",
       "</tr>\n",
       "<tr>\n",
       "  <th>Prob(Omnibus):</th> <td> 0.000</td>  <th>  Jarque-Bera (JB):  </th> <td>4381.579</td>\n",
       "</tr>\n",
       "<tr>\n",
       "  <th>Skew:</th>          <td> 2.196</td>  <th>  Prob(JB):          </th> <td>    0.00</td>\n",
       "</tr>\n",
       "<tr>\n",
       "  <th>Kurtosis:</th>      <td>12.977</td>  <th>  Cond. No.          </th> <td>    885.</td>\n",
       "</tr>\n",
       "</table><br/><br/>Notes:<br/>[1] Standard Errors assume that the covariance matrix of the errors is correctly specified."
      ],
      "text/plain": [
       "<class 'statsmodels.iolib.summary.Summary'>\n",
       "\"\"\"\n",
       "                            OLS Regression Results                            \n",
       "==============================================================================\n",
       "Dep. Variable:                 d_next   R-squared:                       0.595\n",
       "Model:                            OLS   Adj. R-squared:                  0.593\n",
       "Method:                 Least Squares   F-statistic:                     431.0\n",
       "Date:                Sun, 21 Aug 2022   Prob (F-statistic):          2.87e-172\n",
       "Time:                        11:47:49   Log-Likelihood:                 4719.9\n",
       "No. Observations:                 885   AIC:                            -9432.\n",
       "Df Residuals:                     881   BIC:                            -9413.\n",
       "Df Model:                           3                                         \n",
       "Covariance Type:            nonrobust                                         \n",
       "==============================================================================\n",
       "                 coef    std err          t      P>|t|      [0.025      0.975]\n",
       "------------------------------------------------------------------------------\n",
       "const          0.0002   7.64e-05      2.694      0.007    5.59e-05       0.000\n",
       "d              0.5827      0.034     16.930      0.000       0.515       0.650\n",
       "w              0.0319      0.007      4.314      0.000       0.017       0.046\n",
       "m              0.0028      0.002      1.716      0.086      -0.000       0.006\n",
       "==============================================================================\n",
       "Omnibus:                      463.634   Durbin-Watson:                   1.995\n",
       "Prob(Omnibus):                  0.000   Jarque-Bera (JB):             4381.579\n",
       "Skew:                           2.196   Prob(JB):                         0.00\n",
       "Kurtosis:                      12.977   Cond. No.                         885.\n",
       "==============================================================================\n",
       "\n",
       "Notes:\n",
       "[1] Standard Errors assume that the covariance matrix of the errors is correctly specified.\n",
       "\"\"\""
      ]
     },
     "execution_count": 94,
     "metadata": {},
     "output_type": "execute_result"
    }
   ],
   "source": [
    "res.summary()"
   ]
  },
  {
   "cell_type": "code",
   "execution_count": 95,
   "id": "2315eb13",
   "metadata": {},
   "outputs": [],
   "source": [
    "predictions = res.predict()"
   ]
  },
  {
   "cell_type": "code",
   "execution_count": 97,
   "id": "297e2e61",
   "metadata": {},
   "outputs": [
    {
     "data": {
      "text/plain": [
       "0.001207989192533429"
      ]
     },
     "execution_count": 97,
     "metadata": {},
     "output_type": "execute_result"
    }
   ],
   "source": [
    "df_res = volas_daily_train.copy(deep=True)\n",
    "df_res[\"pred\"] = predictions\n",
    "((df_res['d_next'] - df_res['pred']) ** 2).sum()"
   ]
  },
  {
   "cell_type": "code",
   "execution_count": 102,
   "id": "be77f5e3",
   "metadata": {},
   "outputs": [
    {
     "data": {
      "text/plain": [
       "<AxesSubplot:>"
      ]
     },
     "execution_count": 102,
     "metadata": {},
     "output_type": "execute_result"
    },
    {
     "data": {
      "image/png": "[encoded data removed]",
      "text/plain": [
       "<Figure size 432x288 with 1 Axes>"
      ]
     },
     "metadata": {
      "needs_background": "light"
     },
     "output_type": "display_data"
    }
   ],
   "source": [
    "df_res[['d_next', 'pred']].plot()"
   ]
  },
  {
   "cell_type": "code",
   "execution_count": null,
   "id": "b888078f",
   "metadata": {},
   "outputs": [],
   "source": [
    "# i need to do d = 1, w = 7, m = 30 things"
   ]
  },
  {
   "cell_type": "code",
   "execution_count": null,
   "id": "0f34414a",
   "metadata": {},
   "outputs": [],
   "source": [
    "# arghhh i have to write it myself DWM (and potentially others)\n",
    "\n"
   ]
  }
 ],
 "metadata": {
  "kernelspec": {
   "display_name": "Python 3 (ipykernel)",
   "language": "python",
   "name": "python3"
  },
  "language_info": {
   "codemirror_mode": {
    "name": "ipython",
    "version": 3
   },
   "file_extension": ".py",
   "mimetype": "text/x-python",
   "name": "python",
   "nbconvert_exporter": "python",
   "pygments_lexer": "ipython3",
   "version": "3.7.9"
  }
 },
 "nbformat": 4,
 "nbformat_minor": 5
}

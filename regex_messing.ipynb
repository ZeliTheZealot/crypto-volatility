{
 "cells": [
  {
   "cell_type": "code",
   "execution_count": 1,
   "id": "a37eb53d",
   "metadata": {},
   "outputs": [],
   "source": [
    "universe = [\"bnbbtc\", \"adabtc\", \"ethbtc\", \"batbtc\", \"btcusdc\", \"btcusdt\", \"neobtc\", \"btctusd\", \"etcbtc\", \"ltcbtc\", \"xrpbtc\", \"trxbtc\", \"eosbtc\", \"xmrbtc\", \"zecbtc\", \"qtumbtc\", \"dcrbtc\", \"xlmbtc\", \"iotabtc\", \"manabtc\", \"dashbtc\", \"zrxbtc\", \"scbtc\", \"repbtc\"]"
   ]
  },
  {
   "cell_type": "code",
   "execution_count": 8,
   "id": "ad6dc2d9",
   "metadata": {},
   "outputs": [
    {
     "name": "stdout",
     "output_type": "stream",
     "text": [
      "BNBBTC, ADABTC, ETHBTC, BATBTC, BTCUSDC, BTCUSDT, NEOBTC, BTCTUSD, ETCBTC, LTCBTC, XRPBTC, TRXBTC, EOSBTC, XMRBTC, ZECBTC, QTUMBTC, DCRBTC, XLMBTC, IOTABTC, MANABTC, DASHBTC, ZRXBTC, SCBTC, REPBTC, "
     ]
    }
   ],
   "source": [
    "for pair in universe:\n",
    "    print(pair.upper(), end=', ')"
   ]
  },
  {
   "cell_type": "code",
   "execution_count": null,
   "id": "536f263a",
   "metadata": {},
   "outputs": [],
   "source": []
  }
 ],
 "metadata": {
  "kernelspec": {
   "display_name": "Python 3 (ipykernel)",
   "language": "python",
   "name": "python3"
  },
  "language_info": {
   "codemirror_mode": {
    "name": "ipython",
    "version": 3
   },
   "file_extension": ".py",
   "mimetype": "text/x-python",
   "name": "python",
   "nbconvert_exporter": "python",
   "pygments_lexer": "ipython3",
   "version": "3.7.9"
  }
 },
 "nbformat": 4,
 "nbformat_minor": 5
}

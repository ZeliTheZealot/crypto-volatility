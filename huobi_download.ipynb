{
 "cells": [
  {
   "cell_type": "code",
   "execution_count": 1,
   "id": "e2ead501",
   "metadata": {},
   "outputs": [],
   "source": [
    "from tardis_dev import datasets, get_exchange_details\n",
    "import logging\n",
    "import os\n",
    "import pandas as pd\n",
    "import pprint as pp\n",
    "import datetime\n",
    "import dateutil.parser\n",
    "import pytz\n",
    "import gzip\n",
    "import re\n",
    "\n",
    "# prevents weird issue\n",
    "import nest_asyncio\n",
    "nest_asyncio.apply()\n",
    "\n",
    "my_api_key = \"TD.BDDr5Mkdv9P7jcBv.HGl8KnCzXgfUQSx.GiAyuItybr9u2tg.5DBEOQ-S7tzj-sN.p9Z42Wlj-bksdHl.rpdN\"\n",
    "\n",
    "exchange = \"huobi\"\n",
    "\n",
    "exchange_details = get_exchange_details(exchange)"
   ]
  },
  {
   "cell_type": "code",
   "execution_count": 10,
   "id": "99e1a10d",
   "metadata": {},
   "outputs": [],
   "source": [
    "def is_wanted(pair_name):\n",
    "    token_wanted = [\"BTC\", \"ETH\"]\n",
    "    # checks if any string in token_wanted is a substring of pair_name\n",
    "    return any(str.casefold(item) in str.casefold(pair_name) for item in token_wanted) \n"
   ]
  },
  {
   "cell_type": "code",
   "execution_count": 3,
   "id": "1f2133ae",
   "metadata": {},
   "outputs": [
    {
     "name": "stdout",
     "output_type": "stream",
     "text": [
      "0\n",
      "[]\n"
     ]
    }
   ],
   "source": [
    "count = 0\n",
    "threshold = pytz.UTC.localize(datetime.datetime(2020, 5, 1))\n",
    "symbols_list = []\n",
    "for item in exchange_details['availableSymbols']:\n",
    "    raw_time = item['availableSince']\n",
    "    parsed_time = dateutil.parser.isoparse(raw_time)\n",
    "    pair_name = item['id']\n",
    "    if parsed_time < threshold and is_wanted(pair_name):\n",
    "#         print(pair_name)\n",
    "        symbols_list.append(pair_name)\n",
    "        count += 1\n",
    "print(count)\n",
    "print(symbols_list)"
   ]
  },
  {
   "cell_type": "code",
   "execution_count": 8,
   "id": "dc658340",
   "metadata": {},
   "outputs": [],
   "source": [
    "name = exchange_details['availableSymbols'][1]['id']"
   ]
  },
  {
   "cell_type": "code",
   "execution_count": 11,
   "id": "cab564c9",
   "metadata": {},
   "outputs": [
    {
     "data": {
      "text/plain": [
       "True"
      ]
     },
     "execution_count": 11,
     "metadata": {},
     "output_type": "execute_result"
    }
   ],
   "source": [
    "is_wanted(name)"
   ]
  },
  {
   "cell_type": "code",
   "execution_count": 12,
   "id": "b39df73f",
   "metadata": {},
   "outputs": [
    {
     "ename": "NameError",
     "evalue": "name 'l' is not defined",
     "output_type": "error",
     "traceback": [
      "\u001b[1;31m---------------------------------------------------------------------------\u001b[0m",
      "\u001b[1;31mNameError\u001b[0m                                 Traceback (most recent call last)",
      "\u001b[1;32m~\\AppData\\Local\\Temp\\ipykernel_28344\\89327585.py\u001b[0m in \u001b[0;36m<module>\u001b[1;34m\u001b[0m\n\u001b[1;32m----> 1\u001b[1;33m \u001b[1;33m[\u001b[0m\u001b[0mi\u001b[0m\u001b[1;33m.\u001b[0m\u001b[0mreplace\u001b[0m\u001b[1;33m(\u001b[0m\u001b[1;34m'-'\u001b[0m\u001b[1;33m,\u001b[0m\u001b[1;34m''\u001b[0m\u001b[1;33m)\u001b[0m \u001b[1;32mfor\u001b[0m \u001b[0mi\u001b[0m \u001b[1;32min\u001b[0m \u001b[0ml\u001b[0m\u001b[1;33m]\u001b[0m\u001b[1;33m\u001b[0m\u001b[1;33m\u001b[0m\u001b[0m\n\u001b[0m",
      "\u001b[1;31mNameError\u001b[0m: name 'l' is not defined"
     ]
    }
   ],
   "source": [
    "[i.replace('-','') for i in l]"
   ]
  },
  {
   "cell_type": "code",
   "execution_count": 13,
   "id": "3c542397",
   "metadata": {},
   "outputs": [],
   "source": [
    "okex_shit = ['BTC-USDT', 'ETH-BTC', 'LTC-BTC', 'BCH-BTC', 'XRP-BTC', 'EOS-BTC', 'TRX-BTC', 'ETC-BTC', 'ADA-BTC', 'BSV-BTC', 'XLM-BTC', 'XMR-BTC', 'ZRX-BTC', 'DASH-BTC', 'NEO-BTC', 'IOTA-BTC', 'ZEC-BTC', 'MKR-BTC', 'QTUM-BTC', 'DCR-BTC', 'DGB-BTC', 'SC-BTC', 'MANA-BTC', 'GNT-BTC']"
   ]
  },
  {
   "cell_type": "code",
   "execution_count": 14,
   "id": "1328c06d",
   "metadata": {},
   "outputs": [],
   "source": [
    "binance_shit = ['bnbbtc', 'adabtc', 'ethbtc', 'batbtc', 'btcusdc', 'btcusdt', 'neobtc', 'btctusd', 'etcbtc', 'ltcbtc', 'xrpbtc', 'trxbtc', 'eosbtc', 'xmrbtc', 'zecbtc', 'qtumbtc', 'dcrbtc', 'xlmbtc', 'iotabtc', 'manabtc', 'dashbtc', 'zrxbtc', 'scbtc', 'repbtc', 'btcpax', 'gntbtc']"
   ]
  },
  {
   "cell_type": "code",
   "execution_count": 15,
   "id": "b4992f6a",
   "metadata": {},
   "outputs": [],
   "source": [
    "okex_shit = [i.replace('-','') for i in okex_shit]"
   ]
  },
  {
   "cell_type": "code",
   "execution_count": 20,
   "id": "6deb94b7",
   "metadata": {},
   "outputs": [],
   "source": [
    "okex_shit = [str.lower(x) for x in okex_shit]"
   ]
  },
  {
   "cell_type": "code",
   "execution_count": 22,
   "id": "45d0b803",
   "metadata": {},
   "outputs": [],
   "source": [
    "result = set().union(okex_shit, binance_shit)"
   ]
  },
  {
   "cell_type": "code",
   "execution_count": 23,
   "id": "166225d3",
   "metadata": {},
   "outputs": [
    {
     "data": {
      "text/plain": [
       "30"
      ]
     },
     "execution_count": 23,
     "metadata": {},
     "output_type": "execute_result"
    }
   ],
   "source": [
    "len(result)"
   ]
  },
  {
   "cell_type": "code",
   "execution_count": null,
   "id": "b9e9726a",
   "metadata": {},
   "outputs": [],
   "source": []
  }
 ],
 "metadata": {
  "kernelspec": {
   "display_name": "Python 3 (ipykernel)",
   "language": "python",
   "name": "python3"
  },
  "language_info": {
   "codemirror_mode": {
    "name": "ipython",
    "version": 3
   },
   "file_extension": ".py",
   "mimetype": "text/x-python",
   "name": "python",
   "nbconvert_exporter": "python",
   "pygments_lexer": "ipython3",
   "version": "3.7.9"
  }
 },
 "nbformat": 4,
 "nbformat_minor": 5
}
